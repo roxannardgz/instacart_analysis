{
 "cells": [
  {
   "cell_type": "markdown",
   "id": "31554a78",
   "metadata": {},
   "source": [
    "# Instacart Analysis"
   ]
  },
  {
   "cell_type": "code",
   "execution_count": 1,
   "id": "0ed46e4c",
   "metadata": {},
   "outputs": [
    {
     "name": "stderr",
     "output_type": "stream",
     "text": [
      "/var/folders/mg/hptp2zld5cl6kjcrwfys_p5h0000gn/T/ipykernel_58979/3609150076.py:1: DeprecationWarning: Importing display from IPython.core.display is deprecated since IPython 7.14, please import from IPython display\n",
      "  from IPython.core.display import display, HTML\n"
     ]
    },
    {
     "data": {
      "text/html": [
       "<style>.container { width:90% !important; }</style>"
      ],
      "text/plain": [
       "<IPython.core.display.HTML object>"
      ]
     },
     "metadata": {},
     "output_type": "display_data"
    }
   ],
   "source": [
    "from IPython.core.display import display, HTML\n",
    "\n",
    "display(HTML(\"<style>.container { width:90% !important; }</style>\"))\n"
   ]
  },
  {
   "cell_type": "markdown",
   "id": "e1c482ac",
   "metadata": {},
   "source": [
    "## Introduction\n",
    "\n",
    "Instacart is a Groceries Delivery App, where customers can place a grocery order and have it delivered to them. The purpose of this analysis is to provide general insight into the shopping habits of Instacart Customers. For the analysis, we will be using tables with data on orders, products, products ordered, aisles and departments. "
   ]
  },
  {
   "cell_type": "markdown",
   "id": "2700664b",
   "metadata": {},
   "source": [
    "## 1. Data Cleaning and Preprocessing\n",
    "\n",
    "We'll begin by loading the data and importing necessary libraries. Then we'll address different data aspects such as data types, missing values, and duplicates."
   ]
  },
  {
   "cell_type": "code",
   "execution_count": 2,
   "id": "1ff14df0",
   "metadata": {},
   "outputs": [],
   "source": [
    "import pandas as pd\n",
    "import matplotlib.pyplot as plt\n",
    "%matplotlib inline\n",
    "\n",
    "\n",
    "orders = pd.read_csv('instacart_orders.csv', sep=';')\n",
    "\n",
    "products = pd.read_csv('products.csv', sep=';')\n",
    "\n",
    "aisles =  pd.read_csv('aisles.csv', sep=';')\n",
    "\n",
    "departments =  pd.read_csv('departments.csv', sep=';')\n",
    "\n",
    "order_products =  pd.read_csv('order_products.csv', sep=';')"
   ]
  },
  {
   "cell_type": "markdown",
   "id": "715a80f0",
   "metadata": {},
   "source": [
    "### 1.1 Orders Table"
   ]
  },
  {
   "cell_type": "code",
   "execution_count": 3,
   "id": "90c91fcc",
   "metadata": {},
   "outputs": [
    {
     "name": "stdout",
     "output_type": "stream",
     "text": [
      "<class 'pandas.core.frame.DataFrame'>\n",
      "RangeIndex: 478967 entries, 0 to 478966\n",
      "Data columns (total 6 columns):\n",
      " #   Column                  Non-Null Count   Dtype  \n",
      "---  ------                  --------------   -----  \n",
      " 0   order_id                478967 non-null  int64  \n",
      " 1   user_id                 478967 non-null  int64  \n",
      " 2   order_number            478967 non-null  int64  \n",
      " 3   order_dow               478967 non-null  int64  \n",
      " 4   order_hour_of_day       478967 non-null  int64  \n",
      " 5   days_since_prior_order  450148 non-null  float64\n",
      "dtypes: float64(1), int64(5)\n",
      "memory usage: 21.9 MB\n"
     ]
    }
   ],
   "source": [
    "orders.info()"
   ]
  },
  {
   "cell_type": "code",
   "execution_count": 4,
   "id": "39778e00",
   "metadata": {
    "scrolled": true
   },
   "outputs": [
    {
     "data": {
      "text/html": [
       "<div>\n",
       "<style scoped>\n",
       "    .dataframe tbody tr th:only-of-type {\n",
       "        vertical-align: middle;\n",
       "    }\n",
       "\n",
       "    .dataframe tbody tr th {\n",
       "        vertical-align: top;\n",
       "    }\n",
       "\n",
       "    .dataframe thead th {\n",
       "        text-align: right;\n",
       "    }\n",
       "</style>\n",
       "<table border=\"1\" class=\"dataframe\">\n",
       "  <thead>\n",
       "    <tr style=\"text-align: right;\">\n",
       "      <th></th>\n",
       "      <th>order_id</th>\n",
       "      <th>user_id</th>\n",
       "      <th>order_number</th>\n",
       "      <th>order_dow</th>\n",
       "      <th>order_hour_of_day</th>\n",
       "      <th>days_since_prior_order</th>\n",
       "    </tr>\n",
       "  </thead>\n",
       "  <tbody>\n",
       "    <tr>\n",
       "      <th>0</th>\n",
       "      <td>1515936</td>\n",
       "      <td>183418</td>\n",
       "      <td>11</td>\n",
       "      <td>6</td>\n",
       "      <td>13</td>\n",
       "      <td>30.0</td>\n",
       "    </tr>\n",
       "    <tr>\n",
       "      <th>1</th>\n",
       "      <td>1690866</td>\n",
       "      <td>163593</td>\n",
       "      <td>5</td>\n",
       "      <td>5</td>\n",
       "      <td>12</td>\n",
       "      <td>9.0</td>\n",
       "    </tr>\n",
       "    <tr>\n",
       "      <th>2</th>\n",
       "      <td>1454967</td>\n",
       "      <td>39980</td>\n",
       "      <td>4</td>\n",
       "      <td>5</td>\n",
       "      <td>19</td>\n",
       "      <td>2.0</td>\n",
       "    </tr>\n",
       "    <tr>\n",
       "      <th>3</th>\n",
       "      <td>1768857</td>\n",
       "      <td>82516</td>\n",
       "      <td>56</td>\n",
       "      <td>0</td>\n",
       "      <td>20</td>\n",
       "      <td>10.0</td>\n",
       "    </tr>\n",
       "    <tr>\n",
       "      <th>4</th>\n",
       "      <td>3007858</td>\n",
       "      <td>196724</td>\n",
       "      <td>2</td>\n",
       "      <td>4</td>\n",
       "      <td>12</td>\n",
       "      <td>17.0</td>\n",
       "    </tr>\n",
       "  </tbody>\n",
       "</table>\n",
       "</div>"
      ],
      "text/plain": [
       "   order_id  user_id  order_number  order_dow  order_hour_of_day  \\\n",
       "0   1515936   183418            11          6                 13   \n",
       "1   1690866   163593             5          5                 12   \n",
       "2   1454967    39980             4          5                 19   \n",
       "3   1768857    82516            56          0                 20   \n",
       "4   3007858   196724             2          4                 12   \n",
       "\n",
       "   days_since_prior_order  \n",
       "0                    30.0  \n",
       "1                     9.0  \n",
       "2                     2.0  \n",
       "3                    10.0  \n",
       "4                    17.0  "
      ]
     },
     "execution_count": 4,
     "metadata": {},
     "output_type": "execute_result"
    }
   ],
   "source": [
    "orders.head()"
   ]
  },
  {
   "cell_type": "markdown",
   "id": "c969ee60",
   "metadata": {},
   "source": [
    "Although `order_id` and `user_id` are represented by numbers, we'll change the data types to strings, so that they explicitly show that they are categories rather than numerical values."
   ]
  },
  {
   "cell_type": "code",
   "execution_count": 5,
   "id": "026a089c",
   "metadata": {},
   "outputs": [],
   "source": [
    "orders['order_id'] = orders['order_id'].astype(str)\n",
    "orders['user_id'] = orders['user_id'].astype(str)"
   ]
  },
  {
   "cell_type": "markdown",
   "id": "b4c74337",
   "metadata": {},
   "source": [
    "The `orders` table only contains null values in the `days_since_prior_order` column, which might refer to first orders. Wel'll verify that after checking for duplicates.\n",
    "\n",
    "Since each order ID should appear only once, let's check for duplicates based on that:"
   ]
  },
  {
   "cell_type": "code",
   "execution_count": 6,
   "id": "81ee2bb7",
   "metadata": {
    "scrolled": false
   },
   "outputs": [
    {
     "name": "stdout",
     "output_type": "stream",
     "text": [
      "There are  15  duplicated IDs.\n"
     ]
    },
    {
     "data": {
      "text/html": [
       "<div>\n",
       "<style scoped>\n",
       "    .dataframe tbody tr th:only-of-type {\n",
       "        vertical-align: middle;\n",
       "    }\n",
       "\n",
       "    .dataframe tbody tr th {\n",
       "        vertical-align: top;\n",
       "    }\n",
       "\n",
       "    .dataframe thead th {\n",
       "        text-align: right;\n",
       "    }\n",
       "</style>\n",
       "<table border=\"1\" class=\"dataframe\">\n",
       "  <thead>\n",
       "    <tr style=\"text-align: right;\">\n",
       "      <th></th>\n",
       "      <th>order_id</th>\n",
       "      <th>user_id</th>\n",
       "      <th>order_number</th>\n",
       "      <th>order_dow</th>\n",
       "      <th>order_hour_of_day</th>\n",
       "      <th>days_since_prior_order</th>\n",
       "    </tr>\n",
       "  </thead>\n",
       "  <tbody>\n",
       "    <tr>\n",
       "      <th>266232</th>\n",
       "      <td>1782114</td>\n",
       "      <td>106752</td>\n",
       "      <td>1</td>\n",
       "      <td>3</td>\n",
       "      <td>2</td>\n",
       "      <td>NaN</td>\n",
       "    </tr>\n",
       "    <tr>\n",
       "      <th>200059</th>\n",
       "      <td>1782114</td>\n",
       "      <td>106752</td>\n",
       "      <td>1</td>\n",
       "      <td>3</td>\n",
       "      <td>2</td>\n",
       "      <td>NaN</td>\n",
       "    </tr>\n",
       "    <tr>\n",
       "      <th>223105</th>\n",
       "      <td>2160484</td>\n",
       "      <td>107525</td>\n",
       "      <td>16</td>\n",
       "      <td>3</td>\n",
       "      <td>2</td>\n",
       "      <td>30.0</td>\n",
       "    </tr>\n",
       "    <tr>\n",
       "      <th>215294</th>\n",
       "      <td>2160484</td>\n",
       "      <td>107525</td>\n",
       "      <td>16</td>\n",
       "      <td>3</td>\n",
       "      <td>2</td>\n",
       "      <td>30.0</td>\n",
       "    </tr>\n",
       "    <tr>\n",
       "      <th>441599</th>\n",
       "      <td>2125197</td>\n",
       "      <td>14050</td>\n",
       "      <td>48</td>\n",
       "      <td>3</td>\n",
       "      <td>2</td>\n",
       "      <td>3.0</td>\n",
       "    </tr>\n",
       "    <tr>\n",
       "      <th>204042</th>\n",
       "      <td>2125197</td>\n",
       "      <td>14050</td>\n",
       "      <td>48</td>\n",
       "      <td>3</td>\n",
       "      <td>2</td>\n",
       "      <td>3.0</td>\n",
       "    </tr>\n",
       "    <tr>\n",
       "      <th>411408</th>\n",
       "      <td>1286742</td>\n",
       "      <td>183220</td>\n",
       "      <td>48</td>\n",
       "      <td>3</td>\n",
       "      <td>2</td>\n",
       "      <td>4.0</td>\n",
       "    </tr>\n",
       "    <tr>\n",
       "      <th>314427</th>\n",
       "      <td>1286742</td>\n",
       "      <td>183220</td>\n",
       "      <td>48</td>\n",
       "      <td>3</td>\n",
       "      <td>2</td>\n",
       "      <td>4.0</td>\n",
       "    </tr>\n",
       "    <tr>\n",
       "      <th>230807</th>\n",
       "      <td>1918001</td>\n",
       "      <td>188546</td>\n",
       "      <td>14</td>\n",
       "      <td>3</td>\n",
       "      <td>2</td>\n",
       "      <td>16.0</td>\n",
       "    </tr>\n",
       "    <tr>\n",
       "      <th>30371</th>\n",
       "      <td>1918001</td>\n",
       "      <td>188546</td>\n",
       "      <td>14</td>\n",
       "      <td>3</td>\n",
       "      <td>2</td>\n",
       "      <td>16.0</td>\n",
       "    </tr>\n",
       "  </tbody>\n",
       "</table>\n",
       "</div>"
      ],
      "text/plain": [
       "       order_id user_id  order_number  order_dow  order_hour_of_day  \\\n",
       "266232  1782114  106752             1          3                  2   \n",
       "200059  1782114  106752             1          3                  2   \n",
       "223105  2160484  107525            16          3                  2   \n",
       "215294  2160484  107525            16          3                  2   \n",
       "441599  2125197   14050            48          3                  2   \n",
       "204042  2125197   14050            48          3                  2   \n",
       "411408  1286742  183220            48          3                  2   \n",
       "314427  1286742  183220            48          3                  2   \n",
       "230807  1918001  188546            14          3                  2   \n",
       "30371   1918001  188546            14          3                  2   \n",
       "\n",
       "        days_since_prior_order  \n",
       "266232                     NaN  \n",
       "200059                     NaN  \n",
       "223105                    30.0  \n",
       "215294                    30.0  \n",
       "441599                     3.0  \n",
       "204042                     3.0  \n",
       "411408                     4.0  \n",
       "314427                     4.0  \n",
       "230807                    16.0  \n",
       "30371                     16.0  "
      ]
     },
     "execution_count": 6,
     "metadata": {},
     "output_type": "execute_result"
    }
   ],
   "source": [
    "# count how many times each order is in the table and filter those that appear more than once.\n",
    "by_order = orders.groupby('order_id')['order_id'].count()  \n",
    "repeated_ids = by_order[by_order > 1]\n",
    "print('There are ', len(repeated_ids), ' duplicated IDs.')\n",
    "\n",
    "orders[orders['order_id'].isin(repeated_ids.index)].sort_values(by='user_id').head(10)"
   ]
  },
  {
   "cell_type": "markdown",
   "id": "1018f309",
   "metadata": {},
   "source": [
    "Let's drop those duplicated entires."
   ]
  },
  {
   "cell_type": "code",
   "execution_count": 7,
   "id": "19a33bbf",
   "metadata": {},
   "outputs": [],
   "source": [
    "orders.drop_duplicates(inplace=True)"
   ]
  },
  {
   "cell_type": "code",
   "execution_count": 8,
   "id": "db37d53d",
   "metadata": {},
   "outputs": [
    {
     "name": "stdout",
     "output_type": "stream",
     "text": [
      "There are  0  duplicated IDs.\n"
     ]
    }
   ],
   "source": [
    "by_order = orders.groupby('order_id')['order_id'].count()  \n",
    "repeated_ids = by_order[by_order > 1]\n",
    "\n",
    "print('There are ', len(repeated_ids), ' duplicated IDs.')"
   ]
  },
  {
   "cell_type": "markdown",
   "id": "f8939419",
   "metadata": {},
   "source": [
    "Now let's go back to the number of days since the previous order. For the null values to refer to the first order, every null value should correspond only to order number 1. Likewise, every user id should only have one null value."
   ]
  },
  {
   "cell_type": "code",
   "execution_count": 9,
   "id": "fd939ccd",
   "metadata": {},
   "outputs": [
    {
     "name": "stdout",
     "output_type": "stream",
     "text": [
      "Empty DataFrame\n",
      "Columns: [order_id, user_id, order_number, order_dow, order_hour_of_day, days_since_prior_order]\n",
      "Index: []\n"
     ]
    }
   ],
   "source": [
    "# Check whether null values correspond to an order number different than 1. \n",
    "# If all null values correspond to order number 1, the returned dataframe should be empty.\n",
    "null_days = orders[orders['days_since_prior_order'].isna()]\n",
    "print(null_days[null_days['order_number'] != 1])"
   ]
  },
  {
   "cell_type": "code",
   "execution_count": 10,
   "id": "ed9b1acd",
   "metadata": {
    "scrolled": true
   },
   "outputs": [
    {
     "name": "stdout",
     "output_type": "stream",
     "text": [
      "There are  28817  null values in the 'days_since_prior_order' column.\n",
      "There are  28817  first orders.\n"
     ]
    }
   ],
   "source": [
    "# Check the number of null values and first orders.\n",
    "print('There are ', null_days.shape[0], \" null values in the 'days_since_prior_order' column.\")\n",
    "first_order = orders[orders['order_number']==1]\n",
    "print('There are ', first_order.shape[0], ' first orders.')"
   ]
  },
  {
   "cell_type": "code",
   "execution_count": 11,
   "id": "34da4332",
   "metadata": {},
   "outputs": [
    {
     "name": "stdout",
     "output_type": "stream",
     "text": [
      "There are  28817  users with only one null value\n"
     ]
    }
   ],
   "source": [
    "# Check if each user_id has only one null value\n",
    "null_cnt = orders.groupby('user_id')['days_since_prior_order'].apply(lambda x: x.isnull().sum())\n",
    "null_cnt = null_cnt[null_cnt == 1]\n",
    "print('There are ', len(null_cnt), ' users with only one null value')"
   ]
  },
  {
   "cell_type": "markdown",
   "id": "d281e5fa",
   "metadata": {},
   "source": [
    "All the null values correspond to orders number one, and there are the same number of first orders as there are null values. Since the null values cannot be replaced with 0, we'll keep them as null and change the data type to integer."
   ]
  },
  {
   "cell_type": "code",
   "execution_count": 12,
   "id": "6f623248",
   "metadata": {},
   "outputs": [
    {
     "name": "stdout",
     "output_type": "stream",
     "text": [
      "<class 'pandas.core.frame.DataFrame'>\n",
      "Index: 478952 entries, 0 to 478966\n",
      "Data columns (total 6 columns):\n",
      " #   Column                  Non-Null Count   Dtype \n",
      "---  ------                  --------------   ----- \n",
      " 0   order_id                478952 non-null  object\n",
      " 1   user_id                 478952 non-null  object\n",
      " 2   order_number            478952 non-null  int64 \n",
      " 3   order_dow               478952 non-null  int64 \n",
      " 4   order_hour_of_day       478952 non-null  int64 \n",
      " 5   days_since_prior_order  450135 non-null  Int64 \n",
      "dtypes: Int64(1), int64(3), object(2)\n",
      "memory usage: 26.0+ MB\n"
     ]
    }
   ],
   "source": [
    "orders['days_since_prior_order'] = orders['days_since_prior_order'].astype('Int64')\n",
    "orders.info()"
   ]
  },
  {
   "cell_type": "markdown",
   "id": "1028880d",
   "metadata": {},
   "source": [
    "### 1.2 Products Table"
   ]
  },
  {
   "cell_type": "code",
   "execution_count": 13,
   "id": "39da96b8",
   "metadata": {},
   "outputs": [
    {
     "name": "stdout",
     "output_type": "stream",
     "text": [
      "<class 'pandas.core.frame.DataFrame'>\n",
      "RangeIndex: 49694 entries, 0 to 49693\n",
      "Data columns (total 4 columns):\n",
      " #   Column         Non-Null Count  Dtype \n",
      "---  ------         --------------  ----- \n",
      " 0   product_id     49694 non-null  int64 \n",
      " 1   product_name   48436 non-null  object\n",
      " 2   aisle_id       49694 non-null  int64 \n",
      " 3   department_id  49694 non-null  int64 \n",
      "dtypes: int64(3), object(1)\n",
      "memory usage: 1.5+ MB\n"
     ]
    }
   ],
   "source": [
    "products.info()"
   ]
  },
  {
   "cell_type": "code",
   "execution_count": 14,
   "id": "04e24b52",
   "metadata": {},
   "outputs": [
    {
     "data": {
      "text/html": [
       "<div>\n",
       "<style scoped>\n",
       "    .dataframe tbody tr th:only-of-type {\n",
       "        vertical-align: middle;\n",
       "    }\n",
       "\n",
       "    .dataframe tbody tr th {\n",
       "        vertical-align: top;\n",
       "    }\n",
       "\n",
       "    .dataframe thead th {\n",
       "        text-align: right;\n",
       "    }\n",
       "</style>\n",
       "<table border=\"1\" class=\"dataframe\">\n",
       "  <thead>\n",
       "    <tr style=\"text-align: right;\">\n",
       "      <th></th>\n",
       "      <th>product_id</th>\n",
       "      <th>product_name</th>\n",
       "      <th>aisle_id</th>\n",
       "      <th>department_id</th>\n",
       "    </tr>\n",
       "  </thead>\n",
       "  <tbody>\n",
       "    <tr>\n",
       "      <th>0</th>\n",
       "      <td>1</td>\n",
       "      <td>Chocolate Sandwich Cookies</td>\n",
       "      <td>61</td>\n",
       "      <td>19</td>\n",
       "    </tr>\n",
       "    <tr>\n",
       "      <th>1</th>\n",
       "      <td>2</td>\n",
       "      <td>All-Seasons Salt</td>\n",
       "      <td>104</td>\n",
       "      <td>13</td>\n",
       "    </tr>\n",
       "    <tr>\n",
       "      <th>2</th>\n",
       "      <td>3</td>\n",
       "      <td>Robust Golden Unsweetened Oolong Tea</td>\n",
       "      <td>94</td>\n",
       "      <td>7</td>\n",
       "    </tr>\n",
       "    <tr>\n",
       "      <th>3</th>\n",
       "      <td>4</td>\n",
       "      <td>Smart Ones Classic Favorites Mini Rigatoni Wit...</td>\n",
       "      <td>38</td>\n",
       "      <td>1</td>\n",
       "    </tr>\n",
       "    <tr>\n",
       "      <th>4</th>\n",
       "      <td>5</td>\n",
       "      <td>Green Chile Anytime Sauce</td>\n",
       "      <td>5</td>\n",
       "      <td>13</td>\n",
       "    </tr>\n",
       "  </tbody>\n",
       "</table>\n",
       "</div>"
      ],
      "text/plain": [
       "   product_id                                       product_name  aisle_id  \\\n",
       "0           1                         Chocolate Sandwich Cookies        61   \n",
       "1           2                                   All-Seasons Salt       104   \n",
       "2           3               Robust Golden Unsweetened Oolong Tea        94   \n",
       "3           4  Smart Ones Classic Favorites Mini Rigatoni Wit...        38   \n",
       "4           5                          Green Chile Anytime Sauce         5   \n",
       "\n",
       "   department_id  \n",
       "0             19  \n",
       "1             13  \n",
       "2              7  \n",
       "3              1  \n",
       "4             13  "
      ]
     },
     "execution_count": 14,
     "metadata": {},
     "output_type": "execute_result"
    }
   ],
   "source": [
    "products.head()"
   ]
  },
  {
   "cell_type": "markdown",
   "id": "f24b983d",
   "metadata": {},
   "source": [
    "As with the previous table, we'll change the data type of the columns that are categories to strings."
   ]
  },
  {
   "cell_type": "code",
   "execution_count": 15,
   "id": "86c8546b",
   "metadata": {},
   "outputs": [],
   "source": [
    "products['product_id'] = products['product_id'].astype(str)\n",
    "products['aisle_id'] = products['aisle_id'].astype(str)\n",
    "products['department_id'] = products['department_id'].astype(str)"
   ]
  },
  {
   "cell_type": "markdown",
   "id": "01543054",
   "metadata": {},
   "source": [
    "There are missing values for the `product_name` column."
   ]
  },
  {
   "cell_type": "code",
   "execution_count": 16,
   "id": "70047089",
   "metadata": {},
   "outputs": [
    {
     "data": {
      "text/html": [
       "<div>\n",
       "<style scoped>\n",
       "    .dataframe tbody tr th:only-of-type {\n",
       "        vertical-align: middle;\n",
       "    }\n",
       "\n",
       "    .dataframe tbody tr th {\n",
       "        vertical-align: top;\n",
       "    }\n",
       "\n",
       "    .dataframe thead th {\n",
       "        text-align: right;\n",
       "    }\n",
       "</style>\n",
       "<table border=\"1\" class=\"dataframe\">\n",
       "  <thead>\n",
       "    <tr style=\"text-align: right;\">\n",
       "      <th></th>\n",
       "      <th>product_id</th>\n",
       "      <th>product_name</th>\n",
       "      <th>aisle_id</th>\n",
       "      <th>department_id</th>\n",
       "    </tr>\n",
       "  </thead>\n",
       "  <tbody>\n",
       "    <tr>\n",
       "      <th>613</th>\n",
       "      <td>614</td>\n",
       "      <td>NaN</td>\n",
       "      <td>100</td>\n",
       "      <td>21</td>\n",
       "    </tr>\n",
       "    <tr>\n",
       "      <th>10904</th>\n",
       "      <td>10905</td>\n",
       "      <td>NaN</td>\n",
       "      <td>100</td>\n",
       "      <td>21</td>\n",
       "    </tr>\n",
       "    <tr>\n",
       "      <th>36859</th>\n",
       "      <td>36860</td>\n",
       "      <td>NaN</td>\n",
       "      <td>100</td>\n",
       "      <td>21</td>\n",
       "    </tr>\n",
       "    <tr>\n",
       "      <th>38316</th>\n",
       "      <td>38317</td>\n",
       "      <td>NaN</td>\n",
       "      <td>100</td>\n",
       "      <td>21</td>\n",
       "    </tr>\n",
       "    <tr>\n",
       "      <th>15780</th>\n",
       "      <td>15781</td>\n",
       "      <td>NaN</td>\n",
       "      <td>100</td>\n",
       "      <td>21</td>\n",
       "    </tr>\n",
       "    <tr>\n",
       "      <th>37584</th>\n",
       "      <td>37585</td>\n",
       "      <td>NaN</td>\n",
       "      <td>100</td>\n",
       "      <td>21</td>\n",
       "    </tr>\n",
       "    <tr>\n",
       "      <th>2374</th>\n",
       "      <td>2375</td>\n",
       "      <td>NaN</td>\n",
       "      <td>100</td>\n",
       "      <td>21</td>\n",
       "    </tr>\n",
       "    <tr>\n",
       "      <th>49483</th>\n",
       "      <td>49484</td>\n",
       "      <td>NaN</td>\n",
       "      <td>100</td>\n",
       "      <td>21</td>\n",
       "    </tr>\n",
       "    <tr>\n",
       "      <th>31979</th>\n",
       "      <td>31980</td>\n",
       "      <td>NaN</td>\n",
       "      <td>100</td>\n",
       "      <td>21</td>\n",
       "    </tr>\n",
       "    <tr>\n",
       "      <th>11892</th>\n",
       "      <td>11893</td>\n",
       "      <td>NaN</td>\n",
       "      <td>100</td>\n",
       "      <td>21</td>\n",
       "    </tr>\n",
       "  </tbody>\n",
       "</table>\n",
       "</div>"
      ],
      "text/plain": [
       "      product_id product_name aisle_id department_id\n",
       "613          614          NaN      100            21\n",
       "10904      10905          NaN      100            21\n",
       "36859      36860          NaN      100            21\n",
       "38316      38317          NaN      100            21\n",
       "15780      15781          NaN      100            21\n",
       "37584      37585          NaN      100            21\n",
       "2374        2375          NaN      100            21\n",
       "49483      49484          NaN      100            21\n",
       "31979      31980          NaN      100            21\n",
       "11892      11893          NaN      100            21"
      ]
     },
     "execution_count": 16,
     "metadata": {},
     "output_type": "execute_result"
    }
   ],
   "source": [
    "noname_products = products[products['product_name'].isna()]\n",
    "noname_products.sample(10)"
   ]
  },
  {
   "cell_type": "code",
   "execution_count": 17,
   "id": "cefca67c",
   "metadata": {
    "scrolled": true
   },
   "outputs": [
    {
     "name": "stdout",
     "output_type": "stream",
     "text": [
      "1\n",
      "1\n",
      "1258\n"
     ]
    }
   ],
   "source": [
    "# Check to how many aisles and departments correspond the products with missing names.\n",
    "print(noname_products['aisle_id'].nunique())\n",
    "print(noname_products['department_id'].nunique())\n",
    "print(noname_products['product_id'].nunique())"
   ]
  },
  {
   "cell_type": "markdown",
   "id": "4fd9097b",
   "metadata": {},
   "source": [
    "Every product that is missing its name correspond to the same aisle and department. For now, we will assume that these products are awaiting for proper name or classification and we'll change their values to `Missing`."
   ]
  },
  {
   "cell_type": "code",
   "execution_count": 18,
   "id": "e539872c",
   "metadata": {},
   "outputs": [],
   "source": [
    "products['product_name'] = products['product_name'].fillna('Missing')"
   ]
  },
  {
   "cell_type": "code",
   "execution_count": 19,
   "id": "a55fc6c3",
   "metadata": {},
   "outputs": [
    {
     "name": "stdout",
     "output_type": "stream",
     "text": [
      "<class 'pandas.core.frame.DataFrame'>\n",
      "RangeIndex: 49694 entries, 0 to 49693\n",
      "Data columns (total 4 columns):\n",
      " #   Column         Non-Null Count  Dtype \n",
      "---  ------         --------------  ----- \n",
      " 0   product_id     49694 non-null  object\n",
      " 1   product_name   49694 non-null  object\n",
      " 2   aisle_id       49694 non-null  object\n",
      " 3   department_id  49694 non-null  object\n",
      "dtypes: object(4)\n",
      "memory usage: 1.5+ MB\n"
     ]
    }
   ],
   "source": [
    "products.info()"
   ]
  },
  {
   "cell_type": "code",
   "execution_count": 20,
   "id": "fbf112a8",
   "metadata": {},
   "outputs": [
    {
     "data": {
      "text/plain": [
       "0"
      ]
     },
     "execution_count": 20,
     "metadata": {},
     "output_type": "execute_result"
    }
   ],
   "source": [
    "products.duplicated().sum()"
   ]
  },
  {
   "cell_type": "markdown",
   "id": "34ac0899",
   "metadata": {},
   "source": [
    "There are no duplicated values, so we'll proceede with the next tables."
   ]
  },
  {
   "cell_type": "markdown",
   "id": "4501e7d9",
   "metadata": {},
   "source": [
    "### 1.3 Aisles and Departments Tables"
   ]
  },
  {
   "cell_type": "code",
   "execution_count": 21,
   "id": "6e303db2",
   "metadata": {},
   "outputs": [
    {
     "name": "stdout",
     "output_type": "stream",
     "text": [
      "<class 'pandas.core.frame.DataFrame'>\n",
      "RangeIndex: 134 entries, 0 to 133\n",
      "Data columns (total 2 columns):\n",
      " #   Column    Non-Null Count  Dtype \n",
      "---  ------    --------------  ----- \n",
      " 0   aisle_id  134 non-null    int64 \n",
      " 1   aisle     134 non-null    object\n",
      "dtypes: int64(1), object(1)\n",
      "memory usage: 2.2+ KB\n"
     ]
    }
   ],
   "source": [
    "aisles.info()"
   ]
  },
  {
   "cell_type": "code",
   "execution_count": 22,
   "id": "d47167a0",
   "metadata": {
    "scrolled": false
   },
   "outputs": [
    {
     "data": {
      "text/html": [
       "<div>\n",
       "<style scoped>\n",
       "    .dataframe tbody tr th:only-of-type {\n",
       "        vertical-align: middle;\n",
       "    }\n",
       "\n",
       "    .dataframe tbody tr th {\n",
       "        vertical-align: top;\n",
       "    }\n",
       "\n",
       "    .dataframe thead th {\n",
       "        text-align: right;\n",
       "    }\n",
       "</style>\n",
       "<table border=\"1\" class=\"dataframe\">\n",
       "  <thead>\n",
       "    <tr style=\"text-align: right;\">\n",
       "      <th></th>\n",
       "      <th>aisle_id</th>\n",
       "      <th>aisle</th>\n",
       "    </tr>\n",
       "  </thead>\n",
       "  <tbody>\n",
       "    <tr>\n",
       "      <th>0</th>\n",
       "      <td>1</td>\n",
       "      <td>prepared soups salads</td>\n",
       "    </tr>\n",
       "    <tr>\n",
       "      <th>1</th>\n",
       "      <td>2</td>\n",
       "      <td>specialty cheeses</td>\n",
       "    </tr>\n",
       "    <tr>\n",
       "      <th>2</th>\n",
       "      <td>3</td>\n",
       "      <td>energy granola bars</td>\n",
       "    </tr>\n",
       "    <tr>\n",
       "      <th>3</th>\n",
       "      <td>4</td>\n",
       "      <td>instant foods</td>\n",
       "    </tr>\n",
       "    <tr>\n",
       "      <th>4</th>\n",
       "      <td>5</td>\n",
       "      <td>marinades meat preparation</td>\n",
       "    </tr>\n",
       "  </tbody>\n",
       "</table>\n",
       "</div>"
      ],
      "text/plain": [
       "   aisle_id                       aisle\n",
       "0         1       prepared soups salads\n",
       "1         2           specialty cheeses\n",
       "2         3         energy granola bars\n",
       "3         4               instant foods\n",
       "4         5  marinades meat preparation"
      ]
     },
     "execution_count": 22,
     "metadata": {},
     "output_type": "execute_result"
    }
   ],
   "source": [
    "aisles.head()"
   ]
  },
  {
   "cell_type": "code",
   "execution_count": 23,
   "id": "e35784e1",
   "metadata": {},
   "outputs": [
    {
     "name": "stdout",
     "output_type": "stream",
     "text": [
      "<class 'pandas.core.frame.DataFrame'>\n",
      "RangeIndex: 21 entries, 0 to 20\n",
      "Data columns (total 2 columns):\n",
      " #   Column         Non-Null Count  Dtype \n",
      "---  ------         --------------  ----- \n",
      " 0   department_id  21 non-null     int64 \n",
      " 1   department     21 non-null     object\n",
      "dtypes: int64(1), object(1)\n",
      "memory usage: 464.0+ bytes\n"
     ]
    }
   ],
   "source": [
    "departments.info()"
   ]
  },
  {
   "cell_type": "code",
   "execution_count": 24,
   "id": "77bf6e25",
   "metadata": {
    "scrolled": true
   },
   "outputs": [
    {
     "data": {
      "text/html": [
       "<div>\n",
       "<style scoped>\n",
       "    .dataframe tbody tr th:only-of-type {\n",
       "        vertical-align: middle;\n",
       "    }\n",
       "\n",
       "    .dataframe tbody tr th {\n",
       "        vertical-align: top;\n",
       "    }\n",
       "\n",
       "    .dataframe thead th {\n",
       "        text-align: right;\n",
       "    }\n",
       "</style>\n",
       "<table border=\"1\" class=\"dataframe\">\n",
       "  <thead>\n",
       "    <tr style=\"text-align: right;\">\n",
       "      <th></th>\n",
       "      <th>department_id</th>\n",
       "      <th>department</th>\n",
       "    </tr>\n",
       "  </thead>\n",
       "  <tbody>\n",
       "    <tr>\n",
       "      <th>14</th>\n",
       "      <td>15</td>\n",
       "      <td>canned goods</td>\n",
       "    </tr>\n",
       "    <tr>\n",
       "      <th>2</th>\n",
       "      <td>3</td>\n",
       "      <td>bakery</td>\n",
       "    </tr>\n",
       "    <tr>\n",
       "      <th>5</th>\n",
       "      <td>6</td>\n",
       "      <td>international</td>\n",
       "    </tr>\n",
       "    <tr>\n",
       "      <th>20</th>\n",
       "      <td>21</td>\n",
       "      <td>missing</td>\n",
       "    </tr>\n",
       "    <tr>\n",
       "      <th>15</th>\n",
       "      <td>16</td>\n",
       "      <td>dairy eggs</td>\n",
       "    </tr>\n",
       "    <tr>\n",
       "      <th>0</th>\n",
       "      <td>1</td>\n",
       "      <td>frozen</td>\n",
       "    </tr>\n",
       "    <tr>\n",
       "      <th>3</th>\n",
       "      <td>4</td>\n",
       "      <td>produce</td>\n",
       "    </tr>\n",
       "    <tr>\n",
       "      <th>4</th>\n",
       "      <td>5</td>\n",
       "      <td>alcohol</td>\n",
       "    </tr>\n",
       "    <tr>\n",
       "      <th>9</th>\n",
       "      <td>10</td>\n",
       "      <td>bulk</td>\n",
       "    </tr>\n",
       "    <tr>\n",
       "      <th>8</th>\n",
       "      <td>9</td>\n",
       "      <td>dry goods pasta</td>\n",
       "    </tr>\n",
       "  </tbody>\n",
       "</table>\n",
       "</div>"
      ],
      "text/plain": [
       "    department_id       department\n",
       "14             15     canned goods\n",
       "2               3           bakery\n",
       "5               6    international\n",
       "20             21          missing\n",
       "15             16       dairy eggs\n",
       "0               1           frozen\n",
       "3               4          produce\n",
       "4               5          alcohol\n",
       "9              10             bulk\n",
       "8               9  dry goods pasta"
      ]
     },
     "execution_count": 24,
     "metadata": {},
     "output_type": "execute_result"
    }
   ],
   "source": [
    "departments.sample(10)"
   ]
  },
  {
   "cell_type": "markdown",
   "id": "629e47a1",
   "metadata": {},
   "source": [
    "As with the previous tables, we'll change the data types of the ids to strings."
   ]
  },
  {
   "cell_type": "code",
   "execution_count": 25,
   "id": "2d560a6e",
   "metadata": {},
   "outputs": [],
   "source": [
    "aisles['aisle_id'] = aisles['aisle_id'].astype(str)\n",
    "departments['department_id'] = departments['department_id'].astype(str)"
   ]
  },
  {
   "cell_type": "markdown",
   "id": "0fea786c",
   "metadata": {},
   "source": [
    "Let's check the aisle and department that correspond to to the products that are missing their names."
   ]
  },
  {
   "cell_type": "code",
   "execution_count": 26,
   "id": "74445fbb",
   "metadata": {
    "scrolled": true
   },
   "outputs": [
    {
     "data": {
      "text/html": [
       "<div>\n",
       "<style scoped>\n",
       "    .dataframe tbody tr th:only-of-type {\n",
       "        vertical-align: middle;\n",
       "    }\n",
       "\n",
       "    .dataframe tbody tr th {\n",
       "        vertical-align: top;\n",
       "    }\n",
       "\n",
       "    .dataframe thead th {\n",
       "        text-align: right;\n",
       "    }\n",
       "</style>\n",
       "<table border=\"1\" class=\"dataframe\">\n",
       "  <thead>\n",
       "    <tr style=\"text-align: right;\">\n",
       "      <th></th>\n",
       "      <th>aisle_id</th>\n",
       "      <th>aisle</th>\n",
       "    </tr>\n",
       "  </thead>\n",
       "  <tbody>\n",
       "    <tr>\n",
       "      <th>99</th>\n",
       "      <td>100</td>\n",
       "      <td>missing</td>\n",
       "    </tr>\n",
       "  </tbody>\n",
       "</table>\n",
       "</div>"
      ],
      "text/plain": [
       "   aisle_id    aisle\n",
       "99      100  missing"
      ]
     },
     "execution_count": 26,
     "metadata": {},
     "output_type": "execute_result"
    }
   ],
   "source": [
    "aisles[aisles['aisle_id']=='100']"
   ]
  },
  {
   "cell_type": "code",
   "execution_count": 27,
   "id": "a6b402df",
   "metadata": {
    "scrolled": true
   },
   "outputs": [
    {
     "data": {
      "text/html": [
       "<div>\n",
       "<style scoped>\n",
       "    .dataframe tbody tr th:only-of-type {\n",
       "        vertical-align: middle;\n",
       "    }\n",
       "\n",
       "    .dataframe tbody tr th {\n",
       "        vertical-align: top;\n",
       "    }\n",
       "\n",
       "    .dataframe thead th {\n",
       "        text-align: right;\n",
       "    }\n",
       "</style>\n",
       "<table border=\"1\" class=\"dataframe\">\n",
       "  <thead>\n",
       "    <tr style=\"text-align: right;\">\n",
       "      <th></th>\n",
       "      <th>department_id</th>\n",
       "      <th>department</th>\n",
       "    </tr>\n",
       "  </thead>\n",
       "  <tbody>\n",
       "    <tr>\n",
       "      <th>20</th>\n",
       "      <td>21</td>\n",
       "      <td>missing</td>\n",
       "    </tr>\n",
       "  </tbody>\n",
       "</table>\n",
       "</div>"
      ],
      "text/plain": [
       "   department_id department\n",
       "20            21    missing"
      ]
     },
     "execution_count": 27,
     "metadata": {},
     "output_type": "execute_result"
    }
   ],
   "source": [
    "departments[departments['department_id']=='21']"
   ]
  },
  {
   "cell_type": "markdown",
   "id": "3c8e3607",
   "metadata": {},
   "source": [
    "Both the aisle and the department are tagged as `missing`. That explains the missing product names."
   ]
  },
  {
   "cell_type": "markdown",
   "id": "1342d5e0",
   "metadata": {},
   "source": [
    "### 1.4 Ordered Products"
   ]
  },
  {
   "cell_type": "code",
   "execution_count": 28,
   "id": "d2934b97",
   "metadata": {},
   "outputs": [
    {
     "name": "stdout",
     "output_type": "stream",
     "text": [
      "<class 'pandas.core.frame.DataFrame'>\n",
      "RangeIndex: 4545007 entries, 0 to 4545006\n",
      "Data columns (total 4 columns):\n",
      " #   Column             Non-Null Count    Dtype  \n",
      "---  ------             --------------    -----  \n",
      " 0   order_id           4545007 non-null  int64  \n",
      " 1   product_id         4545007 non-null  int64  \n",
      " 2   add_to_cart_order  4544171 non-null  float64\n",
      " 3   reordered          4545007 non-null  int64  \n",
      "dtypes: float64(1), int64(3)\n",
      "memory usage: 138.7 MB\n"
     ]
    }
   ],
   "source": [
    "order_products.info(show_counts=True)"
   ]
  },
  {
   "cell_type": "code",
   "execution_count": 29,
   "id": "42e55ea5",
   "metadata": {},
   "outputs": [
    {
     "data": {
      "text/html": [
       "<div>\n",
       "<style scoped>\n",
       "    .dataframe tbody tr th:only-of-type {\n",
       "        vertical-align: middle;\n",
       "    }\n",
       "\n",
       "    .dataframe tbody tr th {\n",
       "        vertical-align: top;\n",
       "    }\n",
       "\n",
       "    .dataframe thead th {\n",
       "        text-align: right;\n",
       "    }\n",
       "</style>\n",
       "<table border=\"1\" class=\"dataframe\">\n",
       "  <thead>\n",
       "    <tr style=\"text-align: right;\">\n",
       "      <th></th>\n",
       "      <th>order_id</th>\n",
       "      <th>product_id</th>\n",
       "      <th>add_to_cart_order</th>\n",
       "      <th>reordered</th>\n",
       "    </tr>\n",
       "  </thead>\n",
       "  <tbody>\n",
       "    <tr>\n",
       "      <th>1200382</th>\n",
       "      <td>2330933</td>\n",
       "      <td>29398</td>\n",
       "      <td>6.0</td>\n",
       "      <td>0</td>\n",
       "    </tr>\n",
       "    <tr>\n",
       "      <th>2578287</th>\n",
       "      <td>41691</td>\n",
       "      <td>15028</td>\n",
       "      <td>6.0</td>\n",
       "      <td>1</td>\n",
       "    </tr>\n",
       "    <tr>\n",
       "      <th>895788</th>\n",
       "      <td>2443183</td>\n",
       "      <td>47977</td>\n",
       "      <td>2.0</td>\n",
       "      <td>1</td>\n",
       "    </tr>\n",
       "    <tr>\n",
       "      <th>1699693</th>\n",
       "      <td>1813379</td>\n",
       "      <td>5479</td>\n",
       "      <td>3.0</td>\n",
       "      <td>1</td>\n",
       "    </tr>\n",
       "    <tr>\n",
       "      <th>3801508</th>\n",
       "      <td>283373</td>\n",
       "      <td>30720</td>\n",
       "      <td>10.0</td>\n",
       "      <td>0</td>\n",
       "    </tr>\n",
       "    <tr>\n",
       "      <th>1330402</th>\n",
       "      <td>2983311</td>\n",
       "      <td>40077</td>\n",
       "      <td>1.0</td>\n",
       "      <td>1</td>\n",
       "    </tr>\n",
       "    <tr>\n",
       "      <th>551141</th>\n",
       "      <td>1455897</td>\n",
       "      <td>21333</td>\n",
       "      <td>14.0</td>\n",
       "      <td>0</td>\n",
       "    </tr>\n",
       "    <tr>\n",
       "      <th>4048402</th>\n",
       "      <td>1727441</td>\n",
       "      <td>13829</td>\n",
       "      <td>25.0</td>\n",
       "      <td>1</td>\n",
       "    </tr>\n",
       "    <tr>\n",
       "      <th>668553</th>\n",
       "      <td>2020590</td>\n",
       "      <td>13948</td>\n",
       "      <td>2.0</td>\n",
       "      <td>0</td>\n",
       "    </tr>\n",
       "    <tr>\n",
       "      <th>2504023</th>\n",
       "      <td>2625471</td>\n",
       "      <td>30391</td>\n",
       "      <td>17.0</td>\n",
       "      <td>1</td>\n",
       "    </tr>\n",
       "  </tbody>\n",
       "</table>\n",
       "</div>"
      ],
      "text/plain": [
       "         order_id  product_id  add_to_cart_order  reordered\n",
       "1200382   2330933       29398                6.0          0\n",
       "2578287     41691       15028                6.0          1\n",
       "895788    2443183       47977                2.0          1\n",
       "1699693   1813379        5479                3.0          1\n",
       "3801508    283373       30720               10.0          0\n",
       "1330402   2983311       40077                1.0          1\n",
       "551141    1455897       21333               14.0          0\n",
       "4048402   1727441       13829               25.0          1\n",
       "668553    2020590       13948                2.0          0\n",
       "2504023   2625471       30391               17.0          1"
      ]
     },
     "execution_count": 29,
     "metadata": {},
     "output_type": "execute_result"
    }
   ],
   "source": [
    "order_products.sample(10)"
   ]
  },
  {
   "cell_type": "code",
   "execution_count": 30,
   "id": "adc12b8c",
   "metadata": {},
   "outputs": [],
   "source": [
    "order_products['order_id'] = order_products['order_id'].astype(str)\n",
    "order_products['product_id'] = order_products['product_id'].astype(str)"
   ]
  },
  {
   "cell_type": "markdown",
   "id": "8ff0509d",
   "metadata": {},
   "source": [
    "There are some missing values in `add_to_cart_order`. Let's take a look."
   ]
  },
  {
   "cell_type": "code",
   "execution_count": 31,
   "id": "4f11e470",
   "metadata": {},
   "outputs": [
    {
     "data": {
      "text/plain": [
       "836"
      ]
     },
     "execution_count": 31,
     "metadata": {},
     "output_type": "execute_result"
    }
   ],
   "source": [
    "# Number of missing values \n",
    "order_products['add_to_cart_order'].isna().sum()"
   ]
  },
  {
   "cell_type": "code",
   "execution_count": 32,
   "id": "acf87563",
   "metadata": {
    "scrolled": true
   },
   "outputs": [
    {
     "data": {
      "text/html": [
       "<div>\n",
       "<style scoped>\n",
       "    .dataframe tbody tr th:only-of-type {\n",
       "        vertical-align: middle;\n",
       "    }\n",
       "\n",
       "    .dataframe tbody tr th {\n",
       "        vertical-align: top;\n",
       "    }\n",
       "\n",
       "    .dataframe thead th {\n",
       "        text-align: right;\n",
       "    }\n",
       "</style>\n",
       "<table border=\"1\" class=\"dataframe\">\n",
       "  <thead>\n",
       "    <tr style=\"text-align: right;\">\n",
       "      <th></th>\n",
       "      <th>order_id</th>\n",
       "      <th>product_id</th>\n",
       "      <th>add_to_cart_order</th>\n",
       "      <th>reordered</th>\n",
       "    </tr>\n",
       "  </thead>\n",
       "  <tbody>\n",
       "    <tr>\n",
       "      <th>2332300</th>\n",
       "      <td>1717990</td>\n",
       "      <td>1710</td>\n",
       "      <td>NaN</td>\n",
       "      <td>1</td>\n",
       "    </tr>\n",
       "    <tr>\n",
       "      <th>3070436</th>\n",
       "      <td>871281</td>\n",
       "      <td>20119</td>\n",
       "      <td>NaN</td>\n",
       "      <td>0</td>\n",
       "    </tr>\n",
       "    <tr>\n",
       "      <th>455854</th>\n",
       "      <td>1717990</td>\n",
       "      <td>20073</td>\n",
       "      <td>NaN</td>\n",
       "      <td>1</td>\n",
       "    </tr>\n",
       "    <tr>\n",
       "      <th>3782487</th>\n",
       "      <td>1713430</td>\n",
       "      <td>4855</td>\n",
       "      <td>NaN</td>\n",
       "      <td>1</td>\n",
       "    </tr>\n",
       "    <tr>\n",
       "      <th>3355181</th>\n",
       "      <td>3308010</td>\n",
       "      <td>22317</td>\n",
       "      <td>NaN</td>\n",
       "      <td>1</td>\n",
       "    </tr>\n",
       "    <tr>\n",
       "      <th>2670765</th>\n",
       "      <td>3308010</td>\n",
       "      <td>28398</td>\n",
       "      <td>NaN</td>\n",
       "      <td>1</td>\n",
       "    </tr>\n",
       "    <tr>\n",
       "      <th>3733118</th>\n",
       "      <td>2999801</td>\n",
       "      <td>9604</td>\n",
       "      <td>NaN</td>\n",
       "      <td>0</td>\n",
       "    </tr>\n",
       "    <tr>\n",
       "      <th>4222813</th>\n",
       "      <td>1800005</td>\n",
       "      <td>45116</td>\n",
       "      <td>NaN</td>\n",
       "      <td>0</td>\n",
       "    </tr>\n",
       "    <tr>\n",
       "      <th>2376645</th>\n",
       "      <td>1961723</td>\n",
       "      <td>41541</td>\n",
       "      <td>NaN</td>\n",
       "      <td>0</td>\n",
       "    </tr>\n",
       "    <tr>\n",
       "      <th>3984069</th>\n",
       "      <td>171934</td>\n",
       "      <td>29487</td>\n",
       "      <td>NaN</td>\n",
       "      <td>0</td>\n",
       "    </tr>\n",
       "  </tbody>\n",
       "</table>\n",
       "</div>"
      ],
      "text/plain": [
       "        order_id product_id  add_to_cart_order  reordered\n",
       "2332300  1717990       1710                NaN          1\n",
       "3070436   871281      20119                NaN          0\n",
       "455854   1717990      20073                NaN          1\n",
       "3782487  1713430       4855                NaN          1\n",
       "3355181  3308010      22317                NaN          1\n",
       "2670765  3308010      28398                NaN          1\n",
       "3733118  2999801       9604                NaN          0\n",
       "4222813  1800005      45116                NaN          0\n",
       "2376645  1961723      41541                NaN          0\n",
       "3984069   171934      29487                NaN          0"
      ]
     },
     "execution_count": 32,
     "metadata": {},
     "output_type": "execute_result"
    }
   ],
   "source": [
    "na_order = order_products[order_products['add_to_cart_order'].isna()]\n",
    "na_order.sample(10)"
   ]
  },
  {
   "cell_type": "code",
   "execution_count": 33,
   "id": "743be979",
   "metadata": {
    "scrolled": true
   },
   "outputs": [
    {
     "data": {
      "text/plain": [
       "[1.0,\n",
       " 2.0,\n",
       " 3.0,\n",
       " 4.0,\n",
       " 5.0,\n",
       " 6.0,\n",
       " 7.0,\n",
       " 8.0,\n",
       " 9.0,\n",
       " 10.0,\n",
       " 11.0,\n",
       " 12.0,\n",
       " 13.0,\n",
       " 14.0,\n",
       " 15.0,\n",
       " 16.0,\n",
       " 17.0,\n",
       " 18.0,\n",
       " 19.0,\n",
       " 20.0,\n",
       " 21.0,\n",
       " 22.0,\n",
       " 23.0,\n",
       " 24.0,\n",
       " 25.0,\n",
       " 26.0,\n",
       " 27.0,\n",
       " 28.0,\n",
       " 29.0,\n",
       " 30.0,\n",
       " 31.0,\n",
       " 32.0,\n",
       " 33.0,\n",
       " 34.0,\n",
       " 35.0,\n",
       " 36.0,\n",
       " 37.0,\n",
       " 38.0,\n",
       " 39.0,\n",
       " 40.0,\n",
       " 41.0,\n",
       " 42.0,\n",
       " 43.0,\n",
       " 44.0,\n",
       " 45.0,\n",
       " 46.0,\n",
       " 47.0,\n",
       " 48.0,\n",
       " 49.0,\n",
       " 50.0,\n",
       " 51.0,\n",
       " 52.0,\n",
       " 53.0,\n",
       " 54.0,\n",
       " 55.0,\n",
       " 56.0,\n",
       " 57.0,\n",
       " 58.0,\n",
       " 59.0,\n",
       " 60.0,\n",
       " 61.0,\n",
       " 62.0,\n",
       " 63.0,\n",
       " 64.0]"
      ]
     },
     "execution_count": 33,
     "metadata": {},
     "output_type": "execute_result"
    }
   ],
   "source": [
    "not_na = order_products[~order_products['add_to_cart_order'].isna()]\n",
    "sorted(not_na['add_to_cart_order'].unique())"
   ]
  },
  {
   "cell_type": "markdown",
   "id": "20a4c05b",
   "metadata": {},
   "source": [
    "The unique values for `add_to_cart_order` span consecutive values up to 64. Upon investigating some of the orders with missing values, it appears that the missing values in this column coincide with products beyond this order limit. This might suggest that these missing values happen due system restrictions or limitations in recording items beyond 64, rather than because of data entry errors. "
   ]
  },
  {
   "cell_type": "code",
   "execution_count": 34,
   "id": "3f906f1b",
   "metadata": {
    "scrolled": false
   },
   "outputs": [
    {
     "data": {
      "text/html": [
       "<div>\n",
       "<style scoped>\n",
       "    .dataframe tbody tr th:only-of-type {\n",
       "        vertical-align: middle;\n",
       "    }\n",
       "\n",
       "    .dataframe tbody tr th {\n",
       "        vertical-align: top;\n",
       "    }\n",
       "\n",
       "    .dataframe thead th {\n",
       "        text-align: right;\n",
       "    }\n",
       "</style>\n",
       "<table border=\"1\" class=\"dataframe\">\n",
       "  <thead>\n",
       "    <tr style=\"text-align: right;\">\n",
       "      <th></th>\n",
       "      <th>order_id</th>\n",
       "      <th>product_id</th>\n",
       "      <th>add_to_cart_order</th>\n",
       "      <th>reordered</th>\n",
       "    </tr>\n",
       "  </thead>\n",
       "  <tbody>\n",
       "    <tr>\n",
       "      <th>1100135</th>\n",
       "      <td>1183255</td>\n",
       "      <td>38480</td>\n",
       "      <td>61.0</td>\n",
       "      <td>1</td>\n",
       "    </tr>\n",
       "    <tr>\n",
       "      <th>3596700</th>\n",
       "      <td>1183255</td>\n",
       "      <td>33031</td>\n",
       "      <td>62.0</td>\n",
       "      <td>1</td>\n",
       "    </tr>\n",
       "    <tr>\n",
       "      <th>469208</th>\n",
       "      <td>1183255</td>\n",
       "      <td>44278</td>\n",
       "      <td>63.0</td>\n",
       "      <td>1</td>\n",
       "    </tr>\n",
       "    <tr>\n",
       "      <th>978544</th>\n",
       "      <td>1183255</td>\n",
       "      <td>40063</td>\n",
       "      <td>64.0</td>\n",
       "      <td>1</td>\n",
       "    </tr>\n",
       "    <tr>\n",
       "      <th>1169121</th>\n",
       "      <td>1183255</td>\n",
       "      <td>34050</td>\n",
       "      <td>NaN</td>\n",
       "      <td>1</td>\n",
       "    </tr>\n",
       "    <tr>\n",
       "      <th>1733912</th>\n",
       "      <td>1183255</td>\n",
       "      <td>32130</td>\n",
       "      <td>NaN</td>\n",
       "      <td>0</td>\n",
       "    </tr>\n",
       "    <tr>\n",
       "      <th>2158716</th>\n",
       "      <td>1183255</td>\n",
       "      <td>1452</td>\n",
       "      <td>NaN</td>\n",
       "      <td>0</td>\n",
       "    </tr>\n",
       "    <tr>\n",
       "      <th>2404304</th>\n",
       "      <td>1183255</td>\n",
       "      <td>14133</td>\n",
       "      <td>NaN</td>\n",
       "      <td>1</td>\n",
       "    </tr>\n",
       "    <tr>\n",
       "      <th>2556849</th>\n",
       "      <td>1183255</td>\n",
       "      <td>16793</td>\n",
       "      <td>NaN</td>\n",
       "      <td>1</td>\n",
       "    </tr>\n",
       "    <tr>\n",
       "      <th>3084209</th>\n",
       "      <td>1183255</td>\n",
       "      <td>1935</td>\n",
       "      <td>NaN</td>\n",
       "      <td>1</td>\n",
       "    </tr>\n",
       "    <tr>\n",
       "      <th>3633046</th>\n",
       "      <td>1183255</td>\n",
       "      <td>36724</td>\n",
       "      <td>NaN</td>\n",
       "      <td>1</td>\n",
       "    </tr>\n",
       "    <tr>\n",
       "      <th>3952357</th>\n",
       "      <td>1183255</td>\n",
       "      <td>30746</td>\n",
       "      <td>NaN</td>\n",
       "      <td>1</td>\n",
       "    </tr>\n",
       "    <tr>\n",
       "      <th>4218477</th>\n",
       "      <td>1183255</td>\n",
       "      <td>23047</td>\n",
       "      <td>NaN</td>\n",
       "      <td>1</td>\n",
       "    </tr>\n",
       "    <tr>\n",
       "      <th>4335860</th>\n",
       "      <td>1183255</td>\n",
       "      <td>46257</td>\n",
       "      <td>NaN</td>\n",
       "      <td>1</td>\n",
       "    </tr>\n",
       "    <tr>\n",
       "      <th>4432852</th>\n",
       "      <td>1183255</td>\n",
       "      <td>33325</td>\n",
       "      <td>NaN</td>\n",
       "      <td>0</td>\n",
       "    </tr>\n",
       "  </tbody>\n",
       "</table>\n",
       "</div>"
      ],
      "text/plain": [
       "        order_id product_id  add_to_cart_order  reordered\n",
       "1100135  1183255      38480               61.0          1\n",
       "3596700  1183255      33031               62.0          1\n",
       "469208   1183255      44278               63.0          1\n",
       "978544   1183255      40063               64.0          1\n",
       "1169121  1183255      34050                NaN          1\n",
       "1733912  1183255      32130                NaN          0\n",
       "2158716  1183255       1452                NaN          0\n",
       "2404304  1183255      14133                NaN          1\n",
       "2556849  1183255      16793                NaN          1\n",
       "3084209  1183255       1935                NaN          1\n",
       "3633046  1183255      36724                NaN          1\n",
       "3952357  1183255      30746                NaN          1\n",
       "4218477  1183255      23047                NaN          1\n",
       "4335860  1183255      46257                NaN          1\n",
       "4432852  1183255      33325                NaN          0"
      ]
     },
     "execution_count": 34,
     "metadata": {},
     "output_type": "execute_result"
    }
   ],
   "source": [
    "order_products[order_products['order_id']=='1183255'].sort_values(by='add_to_cart_order').tail(15)"
   ]
  },
  {
   "cell_type": "markdown",
   "id": "620780ab",
   "metadata": {},
   "source": [
    "Filling these null values with the mean or median might not be suitable for this column, as it represents a sequential number that might not have meaningful statistical properties for replacement. We could either fill the null values with a placeholder (such as 999) or leave the null values. Since it does not affect the intended analysis, we'll leave the null values. "
   ]
  },
  {
   "cell_type": "markdown",
   "id": "2123069b",
   "metadata": {},
   "source": [
    "## 2. Analysis\n",
    "We'll begin the analysis by verifying that the values in the `'order_hour_of_day'` and `'order_dow'` from the `orders` table are sensible. Since there are not many possible values for each, we'll check whether the unique values fall within the acceptable ranges."
   ]
  },
  {
   "cell_type": "markdown",
   "id": "c4948291",
   "metadata": {},
   "source": [
    "### 2.1 Part 1"
   ]
  },
  {
   "cell_type": "code",
   "execution_count": 35,
   "id": "a446c9cf",
   "metadata": {},
   "outputs": [
    {
     "name": "stdout",
     "output_type": "stream",
     "text": [
      "[0, 1, 2, 3, 4, 5, 6, 7, 8, 9, 10, 11, 12, 13, 14, 15, 16, 17, 18, 19, 20, 21, 22, 23] \n",
      "[0, 1, 2, 3, 4, 5, 6] "
     ]
    }
   ],
   "source": [
    "print(sorted(orders['order_hour_of_day'].unique()), end=\" \")\n",
    "print()\n",
    "print(sorted(orders['order_dow'].unique()), end=\" \")"
   ]
  },
  {
   "cell_type": "markdown",
   "id": "79575a32",
   "metadata": {},
   "source": [
    "Both columns have values that fall within the ranges (from 0 o 23 for `order_hour_of_day` and from 0 to 6 for `order_dow`). \n",
    "\n",
    "Next, let's visualize how many orders are placed for each hour of the day. Since we are dealing with discrete data (hours of the day), we'll use a bar chart to represent one bar per distinct hour. "
   ]
  },
  {
   "cell_type": "code",
   "execution_count": 36,
   "id": "d46cf5e6",
   "metadata": {},
   "outputs": [
    {
     "data": {
      "image/png": "[encoded data removed]",
      "text/plain": [
       "<Figure size 1200x600 with 1 Axes>"
      ]
     },
     "metadata": {},
     "output_type": "display_data"
    }
   ],
   "source": [
    "orders_per_hour = orders.groupby('order_hour_of_day').size().reset_index()\n",
    "orders_per_hour.columns = ['hour', 'orders_cnt']\n",
    "orders_per_hour['peak_orders'] = orders_per_hour['orders_cnt'] > 35000\n",
    "\n",
    "orders_per_hour.plot(kind='bar',\n",
    "                     title='Orders per Hour',\n",
    "                     x='hour',\n",
    "                     y='orders_cnt',\n",
    "                     xlabel='hour',\n",
    "                     ylabel='number of orders',\n",
    "                     width=0.8,\n",
    "                     color=orders_per_hour['peak_orders'].map({True : '#0E83A5', False : '#7C8080'}),\n",
    "                     legend=False,\n",
    "                     rot=0,\n",
    "                     figsize=(12,6)\n",
    "                    )\n",
    "plt.show()"
   ]
  },
  {
   "cell_type": "markdown",
   "id": "84fb27a8",
   "metadata": {},
   "source": [
    "The chart reveals that the majority of the orders are placed between 9:00 and 16:00. Let's see how many distinct user ids place at least one order in each hour."
   ]
  },
  {
   "cell_type": "code",
   "execution_count": 37,
   "id": "125d5456",
   "metadata": {},
   "outputs": [
    {
     "data": {
      "image/png": "[encoded data removed]",
      "text/plain": [
       "<Figure size 1200x600 with 1 Axes>"
      ]
     },
     "metadata": {},
     "output_type": "display_data"
    }
   ],
   "source": [
    "users_per_hour = orders.groupby('order_hour_of_day')['user_id'].nunique()\n",
    "users_per_hour.plot(kind='bar',\n",
    "                    title='Users that ordered per hour',\n",
    "                    xlabel='hour',\n",
    "                    ylabel='number of users',\n",
    "                    width=0.8,\n",
    "                    color='#0E83A5',\n",
    "                    rot=0,\n",
    "                    figsize=(12,6)\n",
    "                   )\n",
    "plt.show()"
   ]
  },
  {
   "cell_type": "markdown",
   "id": "4a9e9316",
   "metadata": {},
   "source": [
    "The distribution of both the number of orders and the count of distinct users placing orders per hour appears similar. This suggests that users tend to place orders around the same times throughout the day."
   ]
  },
  {
   "cell_type": "code",
   "execution_count": 38,
   "id": "411ebf5d",
   "metadata": {},
   "outputs": [
    {
     "data": {
      "image/png": "[encoded data removed]",
      "text/plain": [
       "<Figure size 800x600 with 1 Axes>"
      ]
     },
     "metadata": {},
     "output_type": "display_data"
    }
   ],
   "source": [
    "orders_per_day = orders['order_dow'].value_counts().sort_index()\n",
    "orders_per_day.plot(kind='bar', color='#0E83A5', figsize=(8,6), rot=0)\n",
    "plt.title('Total Orders by Day of the Week')\n",
    "plt.xlabel('Day of the Week')\n",
    "\n",
    "for i, val in enumerate(orders_per_day):\n",
    "    plt.annotate(str(val), xy=(i, val), ha='center', va='bottom')\n",
    "\n",
    "plt.show()"
   ]
  },
  {
   "cell_type": "markdown",
   "id": "a134dd24",
   "metadata": {},
   "source": [
    "We do not have explicit information indicating which number corresponds to each day of the week, and it is not possible to determine based on the data available alone.  However, by examining the count of orders per day, we can make an assumption that 0 represents Sunday, as it is the day with the highest number of orders, and Sundays are commonly associated with grocery shopping. Additionally, in systems where days of the week are represented by numbers ranging from 0 to 6, conventionally, 0 corresponds to Sunday, 1 to Monday, and so on. Under that assumption, we can see that Sunday and Monday have a significantly higher number of orders than the rest of the week, while the number of orders remains relatively constant for those day. "
   ]
  },
  {
   "cell_type": "code",
   "execution_count": 39,
   "id": "2151cad7",
   "metadata": {},
   "outputs": [
    {
     "data": {
      "text/plain": [
       "<Axes: title={'center': 'Days Between Orders'}, xlabel='num of days', ylabel='frequency'>"
      ]
     },
     "execution_count": 39,
     "metadata": {},
     "output_type": "execute_result"
    },
    {
     "data": {
      "image/png": "[encoded data removed]",
      "text/plain": [
       "<Figure size 1200x600 with 1 Axes>"
      ]
     },
     "metadata": {},
     "output_type": "display_data"
    }
   ],
   "source": [
    "days_to_order = orders.groupby('days_since_prior_order')['order_id'].count()\n",
    "\n",
    "days_to_order.plot(kind='bar',\n",
    "                   title='Days Between Orders',\n",
    "                   xlabel='num of days',\n",
    "                   ylabel='frequency',\n",
    "                   color='#0E83A5',\n",
    "                   width=0.7,\n",
    "                    rot=0,\n",
    "                    figsize=(12,6)\n",
    "                  )"
   ]
  },
  {
   "cell_type": "markdown",
   "id": "9a777072",
   "metadata": {},
   "source": [
    "The graph shows that most people  opt for either monthly intervals (30 days) or weekly intervals (7 days) between placing orders. Additionally,  a significant number of orders occur within a week (ranging from 0 to 6 days), suggesting that a portion of customers prefer more frequent restocking of groceries, possibly to ensure freshness of the products or to avoid spoiling items. Further analysis could explore whether customers who wait between 22-29 days between orders tend to purchase certain kinds of products, such as personal care items, pets, or household items, as opposed to food."
   ]
  },
  {
   "cell_type": "markdown",
   "id": "a2af1fc2",
   "metadata": {},
   "source": [
    "### 2.2 Part 2\n",
    "Let's see if there a difference in `'order_hour_of_day'` distributions on Wednesdays and Saturdays."
   ]
  },
  {
   "cell_type": "code",
   "execution_count": 40,
   "id": "bc09624f",
   "metadata": {
    "scrolled": false
   },
   "outputs": [
    {
     "data": {
      "image/png": "[encoded data removed]",
      "text/plain": [
       "<Figure size 640x480 with 1 Axes>"
      ]
     },
     "metadata": {},
     "output_type": "display_data"
    }
   ],
   "source": [
    "# Wednesday = 3, Saturday = 6\n",
    "wed_orders = orders[(orders['order_dow'] == 3)]\n",
    "sat_orders = orders[(orders['order_dow'] == 6)]\n",
    ",\n",
    "plt.hist(wed_orders['order_hour_of_day'], bins=24, alpha=0.5, label='Wednesday',color='#0E83A5')\n",
    "plt.hist(sat_orders['order_hour_of_day'], bins=24, alpha=0.5, label='Saturday', color='#D89F25')\n",
    "plt.title('Distribution of Orders by Hour of the Day for Wednesday and Saturday')\n",
    "plt.legend()\n",
    "\n",
    "plt.show()"
   ]
  },
  {
   "cell_type": "markdown",
   "id": "8c21a284",
   "metadata": {},
   "source": [
    "The distribution for both days are very similar, with the only exception that Saturday present a higher number of orders between 12:00 and 15:00. Since we want to compare the difference in the number of orders for each hour, it might be useful to visualize it differently."
   ]
  },
  {
   "cell_type": "code",
   "execution_count": 41,
   "id": "c4d7653b",
   "metadata": {
    "scrolled": false
   },
   "outputs": [
    {
     "data": {
      "image/png": "[encoded data removed]",
      "text/plain": [
       "<Figure size 1100x600 with 1 Axes>"
      ]
     },
     "metadata": {},
     "output_type": "display_data"
    }
   ],
   "source": [
    "wed_orders = orders[(orders['order_dow'] == 3)]\n",
    "sat_orders = orders[(orders['order_dow'] == 6)]\n",
    "\n",
    "wed_orders_cnt = wed_orders['order_hour_of_day'].value_counts().sort_index()\n",
    "sat_orders_cnt = sat_orders['order_hour_of_day'].value_counts().sort_index()\n",
    "\n",
    "wed_sat_orders = pd.concat([wed_orders_cnt, sat_orders_cnt],\n",
    "                          axis=1\n",
    "                          )\n",
    "\n",
    "wed_sat_orders.columns = ['Wednesday', 'Saturday']\n",
    "wed_sat_orders.plot(kind='bar',\n",
    "                   title= 'Orders by Hour of the Day for Wednesday and Saturday',\n",
    "                    width=0.9,\n",
    "                    xlabel='hour',\n",
    "                    legend=True,\n",
    "                    color={'Wednesday' : '#0E83A5', 'Saturday' : '#D89F25' },\n",
    "                     rot=0,\n",
    "                     figsize=(11,6)\n",
    "                   )\n",
    "\n",
    "plt.show()"
   ]
  },
  {
   "cell_type": "markdown",
   "id": "a5ebb881",
   "metadata": {},
   "source": [
    "Now let's explore the number of orders that customers place."
   ]
  },
  {
   "cell_type": "code",
   "execution_count": 42,
   "id": "0ffd58d0",
   "metadata": {
    "scrolled": false
   },
   "outputs": [
    {
     "name": "stdout",
     "output_type": "stream",
     "text": [
      "The customer with more orders has made 28 orders.\n"
     ]
    },
    {
     "data": {
      "image/png": "[encoded data removed]",
      "text/plain": [
       "<Figure size 640x480 with 1 Axes>"
      ]
     },
     "metadata": {},
     "output_type": "display_data"
    }
   ],
   "source": [
    "# Number of orders per customer\n",
    "orders_per_customer = orders.groupby('user_id')['order_id'].count()\n",
    "print('The customer with more orders has made', max(orders_per_customer), 'orders.')\n",
    "\n",
    "plt.hist(orders_per_customer, bins = 16,color='#0E83A5')\n",
    "plt.title('Distribution of Number of Orders Placed')\n",
    "plt.show()"
   ]
  },
  {
   "cell_type": "markdown",
   "id": "e2391356",
   "metadata": {},
   "source": [
    "Very few customers had made more than 10 orders. Let's see the exact number of customers that placed between 1 and 10 orders."
   ]
  },
  {
   "cell_type": "code",
   "execution_count": 43,
   "id": "45ce09e7",
   "metadata": {
    "scrolled": false
   },
   "outputs": [
    {
     "data": {
      "image/png": "[encoded data removed]",
      "text/plain": [
       "<Figure size 640x480 with 1 Axes>"
      ]
     },
     "metadata": {},
     "output_type": "display_data"
    }
   ],
   "source": [
    "up_to_ten = orders_per_customer[orders_per_customer <= 10].sort_values().reset_index()\n",
    "up_to_ten.columns = (['user_id', 'num_orders'])\n",
    "up_to_ten = up_to_ten.groupby('num_orders')['user_id'].count()\n",
    "\n",
    "up_to_ten.plot(kind='bar',\n",
    "              title='Number of Users by Orders',\n",
    "               xlabel='number of orders',\n",
    "               ylabel='number of users',\n",
    "               color='#0E83A5',\n",
    "               width=0.8,\n",
    "               rot=0\n",
    "              )\n",
    "\n",
    "for i, val in enumerate(up_to_ten):\n",
    "    plt.annotate(str(val), xy=(i, val), ha='center', va='bottom')\n",
    "\n",
    "plt.show()"
   ]
  },
  {
   "cell_type": "markdown",
   "id": "ea32fd7a",
   "metadata": {},
   "source": [
    "Let's explore what are the most frequently ordered products."
   ]
  },
  {
   "cell_type": "code",
   "execution_count": 44,
   "id": "f0571bb5",
   "metadata": {},
   "outputs": [
    {
     "data": {
      "text/html": [
       "<div>\n",
       "<style scoped>\n",
       "    .dataframe tbody tr th:only-of-type {\n",
       "        vertical-align: middle;\n",
       "    }\n",
       "\n",
       "    .dataframe tbody tr th {\n",
       "        vertical-align: top;\n",
       "    }\n",
       "\n",
       "    .dataframe thead th {\n",
       "        text-align: right;\n",
       "    }\n",
       "</style>\n",
       "<table border=\"1\" class=\"dataframe\">\n",
       "  <thead>\n",
       "    <tr style=\"text-align: right;\">\n",
       "      <th></th>\n",
       "      <th>product_id</th>\n",
       "      <th>product_name</th>\n",
       "      <th>frequency</th>\n",
       "    </tr>\n",
       "  </thead>\n",
       "  <tbody>\n",
       "    <tr>\n",
       "      <th>0</th>\n",
       "      <td>24852</td>\n",
       "      <td>Banana</td>\n",
       "      <td>66050</td>\n",
       "    </tr>\n",
       "    <tr>\n",
       "      <th>1</th>\n",
       "      <td>13176</td>\n",
       "      <td>Bag of Organic Bananas</td>\n",
       "      <td>53297</td>\n",
       "    </tr>\n",
       "    <tr>\n",
       "      <th>2</th>\n",
       "      <td>21137</td>\n",
       "      <td>Organic Strawberries</td>\n",
       "      <td>37039</td>\n",
       "    </tr>\n",
       "    <tr>\n",
       "      <th>3</th>\n",
       "      <td>21903</td>\n",
       "      <td>Organic Baby Spinach</td>\n",
       "      <td>33971</td>\n",
       "    </tr>\n",
       "    <tr>\n",
       "      <th>4</th>\n",
       "      <td>47209</td>\n",
       "      <td>Organic Hass Avocado</td>\n",
       "      <td>29773</td>\n",
       "    </tr>\n",
       "    <tr>\n",
       "      <th>5</th>\n",
       "      <td>47766</td>\n",
       "      <td>Organic Avocado</td>\n",
       "      <td>24689</td>\n",
       "    </tr>\n",
       "    <tr>\n",
       "      <th>6</th>\n",
       "      <td>47626</td>\n",
       "      <td>Large Lemon</td>\n",
       "      <td>21495</td>\n",
       "    </tr>\n",
       "    <tr>\n",
       "      <th>7</th>\n",
       "      <td>16797</td>\n",
       "      <td>Strawberries</td>\n",
       "      <td>20018</td>\n",
       "    </tr>\n",
       "    <tr>\n",
       "      <th>8</th>\n",
       "      <td>26209</td>\n",
       "      <td>Limes</td>\n",
       "      <td>19690</td>\n",
       "    </tr>\n",
       "    <tr>\n",
       "      <th>9</th>\n",
       "      <td>27845</td>\n",
       "      <td>Organic Whole Milk</td>\n",
       "      <td>19600</td>\n",
       "    </tr>\n",
       "    <tr>\n",
       "      <th>10</th>\n",
       "      <td>27966</td>\n",
       "      <td>Organic Raspberries</td>\n",
       "      <td>19197</td>\n",
       "    </tr>\n",
       "    <tr>\n",
       "      <th>11</th>\n",
       "      <td>22935</td>\n",
       "      <td>Organic Yellow Onion</td>\n",
       "      <td>15898</td>\n",
       "    </tr>\n",
       "    <tr>\n",
       "      <th>12</th>\n",
       "      <td>24964</td>\n",
       "      <td>Organic Garlic</td>\n",
       "      <td>15292</td>\n",
       "    </tr>\n",
       "    <tr>\n",
       "      <th>13</th>\n",
       "      <td>45007</td>\n",
       "      <td>Organic Zucchini</td>\n",
       "      <td>14584</td>\n",
       "    </tr>\n",
       "    <tr>\n",
       "      <th>14</th>\n",
       "      <td>39275</td>\n",
       "      <td>Organic Blueberries</td>\n",
       "      <td>13879</td>\n",
       "    </tr>\n",
       "    <tr>\n",
       "      <th>15</th>\n",
       "      <td>49683</td>\n",
       "      <td>Cucumber Kirby</td>\n",
       "      <td>13675</td>\n",
       "    </tr>\n",
       "    <tr>\n",
       "      <th>16</th>\n",
       "      <td>28204</td>\n",
       "      <td>Organic Fuji Apple</td>\n",
       "      <td>12544</td>\n",
       "    </tr>\n",
       "    <tr>\n",
       "      <th>17</th>\n",
       "      <td>5876</td>\n",
       "      <td>Organic Lemon</td>\n",
       "      <td>12232</td>\n",
       "    </tr>\n",
       "    <tr>\n",
       "      <th>18</th>\n",
       "      <td>8277</td>\n",
       "      <td>Apple Honeycrisp Organic</td>\n",
       "      <td>11993</td>\n",
       "    </tr>\n",
       "    <tr>\n",
       "      <th>19</th>\n",
       "      <td>40706</td>\n",
       "      <td>Organic Grape Tomatoes</td>\n",
       "      <td>11781</td>\n",
       "    </tr>\n",
       "  </tbody>\n",
       "</table>\n",
       "</div>"
      ],
      "text/plain": [
       "   product_id              product_name  frequency\n",
       "0       24852                    Banana      66050\n",
       "1       13176    Bag of Organic Bananas      53297\n",
       "2       21137      Organic Strawberries      37039\n",
       "3       21903      Organic Baby Spinach      33971\n",
       "4       47209      Organic Hass Avocado      29773\n",
       "5       47766           Organic Avocado      24689\n",
       "6       47626               Large Lemon      21495\n",
       "7       16797              Strawberries      20018\n",
       "8       26209                     Limes      19690\n",
       "9       27845        Organic Whole Milk      19600\n",
       "10      27966       Organic Raspberries      19197\n",
       "11      22935      Organic Yellow Onion      15898\n",
       "12      24964            Organic Garlic      15292\n",
       "13      45007          Organic Zucchini      14584\n",
       "14      39275       Organic Blueberries      13879\n",
       "15      49683            Cucumber Kirby      13675\n",
       "16      28204        Organic Fuji Apple      12544\n",
       "17       5876             Organic Lemon      12232\n",
       "18       8277  Apple Honeycrisp Organic      11993\n",
       "19      40706    Organic Grape Tomatoes      11781"
      ]
     },
     "execution_count": 44,
     "metadata": {},
     "output_type": "execute_result"
    }
   ],
   "source": [
    "# Top 20 ordered products\n",
    "products_freq = order_products.groupby('product_id').size().sort_values(ascending=False)\n",
    "top_20 = products_freq.head(20)\n",
    "top_20 = top_20.reset_index()\n",
    "top_20.columns = ['product_id', 'frequency']\n",
    "\n",
    "top_20_products = pd.merge(top_20, products, on='product_id')\n",
    "top_20_products = top_20_products[['product_id', 'product_name', 'frequency']]\n",
    "top_20_products"
   ]
  },
  {
   "cell_type": "markdown",
   "id": "df57ccaa",
   "metadata": {},
   "source": [
    "### 2.3 Part 3"
   ]
  },
  {
   "cell_type": "markdown",
   "id": "d760ffc2",
   "metadata": {},
   "source": [
    "Let's see the distribution of how many items people typically buy in one order. "
   ]
  },
  {
   "cell_type": "code",
   "execution_count": 45,
   "id": "69978a38",
   "metadata": {
    "scrolled": false
   },
   "outputs": [
    {
     "data": {
      "text/html": [
       "<div>\n",
       "<style scoped>\n",
       "    .dataframe tbody tr th:only-of-type {\n",
       "        vertical-align: middle;\n",
       "    }\n",
       "\n",
       "    .dataframe tbody tr th {\n",
       "        vertical-align: top;\n",
       "    }\n",
       "\n",
       "    .dataframe thead th {\n",
       "        text-align: right;\n",
       "    }\n",
       "</style>\n",
       "<table border=\"1\" class=\"dataframe\">\n",
       "  <thead>\n",
       "    <tr style=\"text-align: right;\">\n",
       "      <th></th>\n",
       "      <th>order_id</th>\n",
       "      <th>products_cnt</th>\n",
       "    </tr>\n",
       "  </thead>\n",
       "  <tbody>\n",
       "    <tr>\n",
       "      <th>66135</th>\n",
       "      <td>1451306</td>\n",
       "      <td>9</td>\n",
       "    </tr>\n",
       "    <tr>\n",
       "      <th>55506</th>\n",
       "      <td>1379907</td>\n",
       "      <td>47</td>\n",
       "    </tr>\n",
       "    <tr>\n",
       "      <th>207017</th>\n",
       "      <td>2413223</td>\n",
       "      <td>7</td>\n",
       "    </tr>\n",
       "    <tr>\n",
       "      <th>88265</th>\n",
       "      <td>1603321</td>\n",
       "      <td>7</td>\n",
       "    </tr>\n",
       "    <tr>\n",
       "      <th>109616</th>\n",
       "      <td>1747778</td>\n",
       "      <td>9</td>\n",
       "    </tr>\n",
       "    <tr>\n",
       "      <th>176887</th>\n",
       "      <td>2207208</td>\n",
       "      <td>3</td>\n",
       "    </tr>\n",
       "    <tr>\n",
       "      <th>88521</th>\n",
       "      <td>1604933</td>\n",
       "      <td>3</td>\n",
       "    </tr>\n",
       "    <tr>\n",
       "      <th>345787</th>\n",
       "      <td>3365665</td>\n",
       "      <td>29</td>\n",
       "    </tr>\n",
       "    <tr>\n",
       "      <th>366762</th>\n",
       "      <td>430605</td>\n",
       "      <td>1</td>\n",
       "    </tr>\n",
       "    <tr>\n",
       "      <th>306911</th>\n",
       "      <td>3098432</td>\n",
       "      <td>17</td>\n",
       "    </tr>\n",
       "  </tbody>\n",
       "</table>\n",
       "</div>"
      ],
      "text/plain": [
       "       order_id  products_cnt\n",
       "66135   1451306             9\n",
       "55506   1379907            47\n",
       "207017  2413223             7\n",
       "88265   1603321             7\n",
       "109616  1747778             9\n",
       "176887  2207208             3\n",
       "88521   1604933             3\n",
       "345787  3365665            29\n",
       "366762   430605             1\n",
       "306911  3098432            17"
      ]
     },
     "execution_count": 45,
     "metadata": {},
     "output_type": "execute_result"
    }
   ],
   "source": [
    "products_per_order = order_products.groupby('order_id')['product_id'].count()\n",
    "products_per_order = products_per_order.reset_index()\n",
    "products_per_order.columns=['order_id', 'products_cnt']\n",
    "\n",
    "products_per_order = products_per_order.sort_values(by='products_cnt')\n",
    "products_per_order.sample(10)"
   ]
  },
  {
   "cell_type": "code",
   "execution_count": 46,
   "id": "08961188",
   "metadata": {
    "scrolled": false
   },
   "outputs": [
    {
     "data": {
      "image/png": "[encoded data removed]",
      "text/plain": [
       "<Figure size 640x480 with 1 Axes>"
      ]
     },
     "metadata": {},
     "output_type": "display_data"
    }
   ],
   "source": [
    "plt.hist(products_per_order['products_cnt'], bins = 40, color='#0E83A5')\n",
    "plt.show()"
   ]
  },
  {
   "cell_type": "markdown",
   "id": "3b47e973",
   "metadata": {},
   "source": [
    "It appears that there are some outliers on the right end of the distribution. Given that the histogram shows a right-skewed distribution, we'll proceed by removing the outliers only on the upper end."
   ]
  },
  {
   "cell_type": "code",
   "execution_count": 47,
   "id": "eaec37e1",
   "metadata": {
    "scrolled": true
   },
   "outputs": [
    {
     "data": {
      "text/html": [
       "<div>\n",
       "<style scoped>\n",
       "    .dataframe tbody tr th:only-of-type {\n",
       "        vertical-align: middle;\n",
       "    }\n",
       "\n",
       "    .dataframe tbody tr th {\n",
       "        vertical-align: top;\n",
       "    }\n",
       "\n",
       "    .dataframe thead th {\n",
       "        text-align: right;\n",
       "    }\n",
       "</style>\n",
       "<table border=\"1\" class=\"dataframe\">\n",
       "  <thead>\n",
       "    <tr style=\"text-align: right;\">\n",
       "      <th></th>\n",
       "      <th>order_id</th>\n",
       "      <th>products_cnt</th>\n",
       "    </tr>\n",
       "  </thead>\n",
       "  <tbody>\n",
       "    <tr>\n",
       "      <th>331192</th>\n",
       "      <td>3266022</td>\n",
       "      <td>1</td>\n",
       "    </tr>\n",
       "    <tr>\n",
       "      <th>115509</th>\n",
       "      <td>1788560</td>\n",
       "      <td>1</td>\n",
       "    </tr>\n",
       "    <tr>\n",
       "      <th>115515</th>\n",
       "      <td>1788597</td>\n",
       "      <td>1</td>\n",
       "    </tr>\n",
       "    <tr>\n",
       "      <th>115521</th>\n",
       "      <td>1788637</td>\n",
       "      <td>1</td>\n",
       "    </tr>\n",
       "    <tr>\n",
       "      <th>23995</th>\n",
       "      <td>1164076</td>\n",
       "      <td>1</td>\n",
       "    </tr>\n",
       "  </tbody>\n",
       "</table>\n",
       "</div>"
      ],
      "text/plain": [
       "       order_id  products_cnt\n",
       "331192  3266022             1\n",
       "115509  1788560             1\n",
       "115515  1788597             1\n",
       "115521  1788637             1\n",
       "23995   1164076             1"
      ]
     },
     "execution_count": 47,
     "metadata": {},
     "output_type": "execute_result"
    }
   ],
   "source": [
    "# Calculate the interquartile range (IQR)\n",
    "# We're using 10th and 90th percentile instead of 25th and 75th, \n",
    "# to adjust the sensitivity of the detection of ouliers. \n",
    "# Using 25th and 75th percentile excludes values that do not seem to be outliers.\n",
    "Q1 = products_per_order['products_cnt'].quantile(0.10)\n",
    "Q3 = products_per_order['products_cnt'].quantile(0.90)\n",
    "IQR = Q3 - Q1\n",
    "\n",
    "# Define the upper bound for outliers \n",
    "upper_bound = Q3 + 1.5 * IQR\n",
    "\n",
    "products_per_order_filtered = products_per_order[products_per_order['products_cnt'] < upper_bound]\n",
    "products_per_order_filtered.head()"
   ]
  },
  {
   "cell_type": "code",
   "execution_count": 48,
   "id": "c2ff7f18",
   "metadata": {},
   "outputs": [
    {
     "name": "stdout",
     "output_type": "stream",
     "text": [
      "The mean of the number of products bought per order is 10.023809364823927\n",
      "The median of the number of products bought per order is 8.0\n"
     ]
    }
   ],
   "source": [
    "print('The mean of the number of products bought per order is', products_per_order_filtered['products_cnt'].mean())\n",
    "print('The median of the number of products bought per order is', products_per_order_filtered['products_cnt'].median())"
   ]
  },
  {
   "cell_type": "code",
   "execution_count": 49,
   "id": "5acc5972",
   "metadata": {
    "scrolled": false
   },
   "outputs": [
    {
     "data": {
      "image/png": "[encoded data removed]",
      "text/plain": [
       "<Figure size 640x480 with 1 Axes>"
      ]
     },
     "metadata": {},
     "output_type": "display_data"
    }
   ],
   "source": [
    "plt.hist(products_per_order_filtered['products_cnt'], bins = 10, color='#0E83A5');"
   ]
  },
  {
   "cell_type": "markdown",
   "id": "c4f35f29",
   "metadata": {},
   "source": [
    "The average number of products is approximately 10, with a median of 8 products. In the histogram, the highest concentration of orders is observed for quantities up to around 15 items. Beyond this point, the frequency sharply declines. This suggests that a significant proportion of orders are placed for individuals or small households, rather than for larger families that might require larger quantities of products per order. Alternatively, this might indicate that customers might also use alternative methods to supplement their groceries needs (i.e. customers might not buy everything they need through the app).\n",
    "\n",
    "This, aligned with the previous observation of frequency of orders, might indicate that customers that tend to place a following order after one week or one month may have specific preference when it comes to the products offered in via the app. Let's continue exploring what are the items that are reordered most frequently."
   ]
  },
  {
   "cell_type": "code",
   "execution_count": 50,
   "id": "b5aeeadd",
   "metadata": {},
   "outputs": [
    {
     "data": {
      "text/html": [
       "<div>\n",
       "<style scoped>\n",
       "    .dataframe tbody tr th:only-of-type {\n",
       "        vertical-align: middle;\n",
       "    }\n",
       "\n",
       "    .dataframe tbody tr th {\n",
       "        vertical-align: top;\n",
       "    }\n",
       "\n",
       "    .dataframe thead th {\n",
       "        text-align: right;\n",
       "    }\n",
       "</style>\n",
       "<table border=\"1\" class=\"dataframe\">\n",
       "  <thead>\n",
       "    <tr style=\"text-align: right;\">\n",
       "      <th></th>\n",
       "      <th>order_id</th>\n",
       "      <th>product_id</th>\n",
       "      <th>add_to_cart_order</th>\n",
       "      <th>reordered</th>\n",
       "    </tr>\n",
       "  </thead>\n",
       "  <tbody>\n",
       "    <tr>\n",
       "      <th>1862420</th>\n",
       "      <td>3042734</td>\n",
       "      <td>44632</td>\n",
       "      <td>25.0</td>\n",
       "      <td>1</td>\n",
       "    </tr>\n",
       "    <tr>\n",
       "      <th>584133</th>\n",
       "      <td>779889</td>\n",
       "      <td>29672</td>\n",
       "      <td>1.0</td>\n",
       "      <td>1</td>\n",
       "    </tr>\n",
       "    <tr>\n",
       "      <th>2721223</th>\n",
       "      <td>1104788</td>\n",
       "      <td>16714</td>\n",
       "      <td>2.0</td>\n",
       "      <td>1</td>\n",
       "    </tr>\n",
       "    <tr>\n",
       "      <th>2375712</th>\n",
       "      <td>2333828</td>\n",
       "      <td>24184</td>\n",
       "      <td>11.0</td>\n",
       "      <td>1</td>\n",
       "    </tr>\n",
       "    <tr>\n",
       "      <th>3221665</th>\n",
       "      <td>3412685</td>\n",
       "      <td>44359</td>\n",
       "      <td>2.0</td>\n",
       "      <td>1</td>\n",
       "    </tr>\n",
       "  </tbody>\n",
       "</table>\n",
       "</div>"
      ],
      "text/plain": [
       "        order_id product_id  add_to_cart_order  reordered\n",
       "1862420  3042734      44632               25.0          1\n",
       "584133    779889      29672                1.0          1\n",
       "2721223  1104788      16714                2.0          1\n",
       "2375712  2333828      24184               11.0          1\n",
       "3221665  3412685      44359                2.0          1"
      ]
     },
     "execution_count": 50,
     "metadata": {},
     "output_type": "execute_result"
    }
   ],
   "source": [
    "reordered_products = order_products[order_products['reordered'] == 1]\n",
    "reordered_products.sample(5)"
   ]
  },
  {
   "cell_type": "code",
   "execution_count": 51,
   "id": "deecb10a",
   "metadata": {
    "scrolled": false
   },
   "outputs": [],
   "source": [
    "top_20_reordered = reordered_products.groupby('product_id')['reordered'].sum().sort_values(ascending=False)\n",
    "top_20_reordered = top_20_reordered.reset_index().head(20)\n",
    "top_20_reordered.columns= ['product_id', 'times_reordered']\n",
    "\n",
    "top_20_products_reordered = pd.merge(top_20_reordered, products, on='product_id')\n",
    "top_20_products_reordered = top_20_products_reordered[['product_id', 'product_name', 'times_reordered', 'department_id']]"
   ]
  },
  {
   "cell_type": "code",
   "execution_count": 52,
   "id": "c62aa09c",
   "metadata": {
    "scrolled": false
   },
   "outputs": [
    {
     "data": {
      "text/html": [
       "<div>\n",
       "<style scoped>\n",
       "    .dataframe tbody tr th:only-of-type {\n",
       "        vertical-align: middle;\n",
       "    }\n",
       "\n",
       "    .dataframe tbody tr th {\n",
       "        vertical-align: top;\n",
       "    }\n",
       "\n",
       "    .dataframe thead th {\n",
       "        text-align: right;\n",
       "    }\n",
       "</style>\n",
       "<table border=\"1\" class=\"dataframe\">\n",
       "  <thead>\n",
       "    <tr style=\"text-align: right;\">\n",
       "      <th></th>\n",
       "      <th>product_id</th>\n",
       "      <th>product_name</th>\n",
       "      <th>times_reordered</th>\n",
       "      <th>department</th>\n",
       "    </tr>\n",
       "  </thead>\n",
       "  <tbody>\n",
       "    <tr>\n",
       "      <th>0</th>\n",
       "      <td>24852</td>\n",
       "      <td>Banana</td>\n",
       "      <td>55763</td>\n",
       "      <td>produce</td>\n",
       "    </tr>\n",
       "    <tr>\n",
       "      <th>1</th>\n",
       "      <td>13176</td>\n",
       "      <td>Bag of Organic Bananas</td>\n",
       "      <td>44450</td>\n",
       "      <td>produce</td>\n",
       "    </tr>\n",
       "    <tr>\n",
       "      <th>2</th>\n",
       "      <td>21137</td>\n",
       "      <td>Organic Strawberries</td>\n",
       "      <td>28639</td>\n",
       "      <td>produce</td>\n",
       "    </tr>\n",
       "    <tr>\n",
       "      <th>3</th>\n",
       "      <td>21903</td>\n",
       "      <td>Organic Baby Spinach</td>\n",
       "      <td>26233</td>\n",
       "      <td>produce</td>\n",
       "    </tr>\n",
       "    <tr>\n",
       "      <th>4</th>\n",
       "      <td>47209</td>\n",
       "      <td>Organic Hass Avocado</td>\n",
       "      <td>23629</td>\n",
       "      <td>produce</td>\n",
       "    </tr>\n",
       "    <tr>\n",
       "      <th>5</th>\n",
       "      <td>47766</td>\n",
       "      <td>Organic Avocado</td>\n",
       "      <td>18743</td>\n",
       "      <td>produce</td>\n",
       "    </tr>\n",
       "    <tr>\n",
       "      <th>6</th>\n",
       "      <td>47626</td>\n",
       "      <td>Large Lemon</td>\n",
       "      <td>15044</td>\n",
       "      <td>produce</td>\n",
       "    </tr>\n",
       "    <tr>\n",
       "      <th>7</th>\n",
       "      <td>27966</td>\n",
       "      <td>Organic Raspberries</td>\n",
       "      <td>14748</td>\n",
       "      <td>produce</td>\n",
       "    </tr>\n",
       "    <tr>\n",
       "      <th>8</th>\n",
       "      <td>16797</td>\n",
       "      <td>Strawberries</td>\n",
       "      <td>13945</td>\n",
       "      <td>produce</td>\n",
       "    </tr>\n",
       "    <tr>\n",
       "      <th>9</th>\n",
       "      <td>26209</td>\n",
       "      <td>Limes</td>\n",
       "      <td>13327</td>\n",
       "      <td>produce</td>\n",
       "    </tr>\n",
       "    <tr>\n",
       "      <th>10</th>\n",
       "      <td>22935</td>\n",
       "      <td>Organic Yellow Onion</td>\n",
       "      <td>11145</td>\n",
       "      <td>produce</td>\n",
       "    </tr>\n",
       "    <tr>\n",
       "      <th>11</th>\n",
       "      <td>24964</td>\n",
       "      <td>Organic Garlic</td>\n",
       "      <td>10411</td>\n",
       "      <td>produce</td>\n",
       "    </tr>\n",
       "    <tr>\n",
       "      <th>12</th>\n",
       "      <td>45007</td>\n",
       "      <td>Organic Zucchini</td>\n",
       "      <td>10076</td>\n",
       "      <td>produce</td>\n",
       "    </tr>\n",
       "    <tr>\n",
       "      <th>13</th>\n",
       "      <td>49683</td>\n",
       "      <td>Cucumber Kirby</td>\n",
       "      <td>9538</td>\n",
       "      <td>produce</td>\n",
       "    </tr>\n",
       "    <tr>\n",
       "      <th>14</th>\n",
       "      <td>28204</td>\n",
       "      <td>Organic Fuji Apple</td>\n",
       "      <td>8989</td>\n",
       "      <td>produce</td>\n",
       "    </tr>\n",
       "    <tr>\n",
       "      <th>15</th>\n",
       "      <td>8277</td>\n",
       "      <td>Apple Honeycrisp Organic</td>\n",
       "      <td>8836</td>\n",
       "      <td>produce</td>\n",
       "    </tr>\n",
       "    <tr>\n",
       "      <th>16</th>\n",
       "      <td>39275</td>\n",
       "      <td>Organic Blueberries</td>\n",
       "      <td>8799</td>\n",
       "      <td>produce</td>\n",
       "    </tr>\n",
       "    <tr>\n",
       "      <th>17</th>\n",
       "      <td>5876</td>\n",
       "      <td>Organic Lemon</td>\n",
       "      <td>8412</td>\n",
       "      <td>produce</td>\n",
       "    </tr>\n",
       "    <tr>\n",
       "      <th>18</th>\n",
       "      <td>27845</td>\n",
       "      <td>Organic Whole Milk</td>\n",
       "      <td>16251</td>\n",
       "      <td>dairy eggs</td>\n",
       "    </tr>\n",
       "    <tr>\n",
       "      <th>19</th>\n",
       "      <td>49235</td>\n",
       "      <td>Organic Half &amp; Half</td>\n",
       "      <td>8389</td>\n",
       "      <td>dairy eggs</td>\n",
       "    </tr>\n",
       "  </tbody>\n",
       "</table>\n",
       "</div>"
      ],
      "text/plain": [
       "   product_id              product_name  times_reordered  department\n",
       "0       24852                    Banana            55763     produce\n",
       "1       13176    Bag of Organic Bananas            44450     produce\n",
       "2       21137      Organic Strawberries            28639     produce\n",
       "3       21903      Organic Baby Spinach            26233     produce\n",
       "4       47209      Organic Hass Avocado            23629     produce\n",
       "5       47766           Organic Avocado            18743     produce\n",
       "6       47626               Large Lemon            15044     produce\n",
       "7       27966       Organic Raspberries            14748     produce\n",
       "8       16797              Strawberries            13945     produce\n",
       "9       26209                     Limes            13327     produce\n",
       "10      22935      Organic Yellow Onion            11145     produce\n",
       "11      24964            Organic Garlic            10411     produce\n",
       "12      45007          Organic Zucchini            10076     produce\n",
       "13      49683            Cucumber Kirby             9538     produce\n",
       "14      28204        Organic Fuji Apple             8989     produce\n",
       "15       8277  Apple Honeycrisp Organic             8836     produce\n",
       "16      39275       Organic Blueberries             8799     produce\n",
       "17       5876             Organic Lemon             8412     produce\n",
       "18      27845        Organic Whole Milk            16251  dairy eggs\n",
       "19      49235       Organic Half & Half             8389  dairy eggs"
      ]
     },
     "execution_count": 52,
     "metadata": {},
     "output_type": "execute_result"
    }
   ],
   "source": [
    "top_20_dep = top_20_products_reordered.merge(departments,\n",
    "                                            on='department_id')\n",
    "top_20_dep.drop('department_id', axis=1, inplace=True)\n",
    "top_20_dep"
   ]
  },
  {
   "cell_type": "markdown",
   "id": "1fcf26f8",
   "metadata": {},
   "source": [
    "Most of the products reordered are from the produce department, most of which are organic products. Now let's explore, for each product, what proportion of its orders are reorders."
   ]
  },
  {
   "cell_type": "code",
   "execution_count": 53,
   "id": "7de93516",
   "metadata": {
    "scrolled": false
   },
   "outputs": [
    {
     "data": {
      "text/html": [
       "<div>\n",
       "<style scoped>\n",
       "    .dataframe tbody tr th:only-of-type {\n",
       "        vertical-align: middle;\n",
       "    }\n",
       "\n",
       "    .dataframe tbody tr th {\n",
       "        vertical-align: top;\n",
       "    }\n",
       "\n",
       "    .dataframe thead th {\n",
       "        text-align: right;\n",
       "    }\n",
       "</style>\n",
       "<table border=\"1\" class=\"dataframe\">\n",
       "  <thead>\n",
       "    <tr style=\"text-align: right;\">\n",
       "      <th></th>\n",
       "      <th>product_name</th>\n",
       "      <th>product_id</th>\n",
       "      <th>times_ordered</th>\n",
       "      <th>times_reordered</th>\n",
       "      <th>proportion</th>\n",
       "    </tr>\n",
       "  </thead>\n",
       "  <tbody>\n",
       "    <tr>\n",
       "      <th>12068</th>\n",
       "      <td>Banana</td>\n",
       "      <td>24852</td>\n",
       "      <td>66050</td>\n",
       "      <td>55763</td>\n",
       "      <td>84.43</td>\n",
       "    </tr>\n",
       "    <tr>\n",
       "      <th>2557</th>\n",
       "      <td>Bag of Organic Bananas</td>\n",
       "      <td>13176</td>\n",
       "      <td>53297</td>\n",
       "      <td>44450</td>\n",
       "      <td>83.40</td>\n",
       "    </tr>\n",
       "    <tr>\n",
       "      <th>9022</th>\n",
       "      <td>Organic Strawberries</td>\n",
       "      <td>21137</td>\n",
       "      <td>37039</td>\n",
       "      <td>28639</td>\n",
       "      <td>77.32</td>\n",
       "    </tr>\n",
       "    <tr>\n",
       "      <th>9656</th>\n",
       "      <td>Organic Baby Spinach</td>\n",
       "      <td>21903</td>\n",
       "      <td>33971</td>\n",
       "      <td>26233</td>\n",
       "      <td>77.22</td>\n",
       "    </tr>\n",
       "    <tr>\n",
       "      <th>30167</th>\n",
       "      <td>Organic Hass Avocado</td>\n",
       "      <td>47209</td>\n",
       "      <td>29773</td>\n",
       "      <td>23629</td>\n",
       "      <td>79.36</td>\n",
       "    </tr>\n",
       "    <tr>\n",
       "      <th>30627</th>\n",
       "      <td>Organic Avocado</td>\n",
       "      <td>47766</td>\n",
       "      <td>24689</td>\n",
       "      <td>18743</td>\n",
       "      <td>75.92</td>\n",
       "    </tr>\n",
       "    <tr>\n",
       "      <th>30514</th>\n",
       "      <td>Large Lemon</td>\n",
       "      <td>47626</td>\n",
       "      <td>21495</td>\n",
       "      <td>15044</td>\n",
       "      <td>69.99</td>\n",
       "    </tr>\n",
       "    <tr>\n",
       "      <th>5505</th>\n",
       "      <td>Strawberries</td>\n",
       "      <td>16797</td>\n",
       "      <td>20018</td>\n",
       "      <td>13945</td>\n",
       "      <td>69.66</td>\n",
       "    </tr>\n",
       "    <tr>\n",
       "      <th>13168</th>\n",
       "      <td>Limes</td>\n",
       "      <td>26209</td>\n",
       "      <td>19690</td>\n",
       "      <td>13327</td>\n",
       "      <td>67.68</td>\n",
       "    </tr>\n",
       "    <tr>\n",
       "      <th>14499</th>\n",
       "      <td>Organic Whole Milk</td>\n",
       "      <td>27845</td>\n",
       "      <td>19600</td>\n",
       "      <td>16251</td>\n",
       "      <td>82.91</td>\n",
       "    </tr>\n",
       "    <tr>\n",
       "      <th>14595</th>\n",
       "      <td>Organic Raspberries</td>\n",
       "      <td>27966</td>\n",
       "      <td>19197</td>\n",
       "      <td>14748</td>\n",
       "      <td>76.82</td>\n",
       "    </tr>\n",
       "    <tr>\n",
       "      <th>10499</th>\n",
       "      <td>Organic Yellow Onion</td>\n",
       "      <td>22935</td>\n",
       "      <td>15898</td>\n",
       "      <td>11145</td>\n",
       "      <td>70.10</td>\n",
       "    </tr>\n",
       "    <tr>\n",
       "      <th>12158</th>\n",
       "      <td>Organic Garlic</td>\n",
       "      <td>24964</td>\n",
       "      <td>15292</td>\n",
       "      <td>10411</td>\n",
       "      <td>68.08</td>\n",
       "    </tr>\n",
       "    <tr>\n",
       "      <th>28385</th>\n",
       "      <td>Organic Zucchini</td>\n",
       "      <td>45007</td>\n",
       "      <td>14584</td>\n",
       "      <td>10076</td>\n",
       "      <td>69.09</td>\n",
       "    </tr>\n",
       "    <tr>\n",
       "      <th>23736</th>\n",
       "      <td>Organic Blueberries</td>\n",
       "      <td>39275</td>\n",
       "      <td>13879</td>\n",
       "      <td>8799</td>\n",
       "      <td>63.40</td>\n",
       "    </tr>\n",
       "    <tr>\n",
       "      <th>32180</th>\n",
       "      <td>Cucumber Kirby</td>\n",
       "      <td>49683</td>\n",
       "      <td>13675</td>\n",
       "      <td>9538</td>\n",
       "      <td>69.75</td>\n",
       "    </tr>\n",
       "    <tr>\n",
       "      <th>14780</th>\n",
       "      <td>Organic Fuji Apple</td>\n",
       "      <td>28204</td>\n",
       "      <td>12544</td>\n",
       "      <td>8989</td>\n",
       "      <td>71.66</td>\n",
       "    </tr>\n",
       "    <tr>\n",
       "      <th>32934</th>\n",
       "      <td>Organic Lemon</td>\n",
       "      <td>5876</td>\n",
       "      <td>12232</td>\n",
       "      <td>8412</td>\n",
       "      <td>68.77</td>\n",
       "    </tr>\n",
       "    <tr>\n",
       "      <th>34837</th>\n",
       "      <td>Apple Honeycrisp Organic</td>\n",
       "      <td>8277</td>\n",
       "      <td>11993</td>\n",
       "      <td>8836</td>\n",
       "      <td>73.68</td>\n",
       "    </tr>\n",
       "    <tr>\n",
       "      <th>24902</th>\n",
       "      <td>Organic Grape Tomatoes</td>\n",
       "      <td>40706</td>\n",
       "      <td>11781</td>\n",
       "      <td>7793</td>\n",
       "      <td>66.15</td>\n",
       "    </tr>\n",
       "  </tbody>\n",
       "</table>\n",
       "</div>"
      ],
      "text/plain": [
       "                   product_name product_id  times_ordered  times_reordered  \\\n",
       "12068                    Banana      24852          66050            55763   \n",
       "2557     Bag of Organic Bananas      13176          53297            44450   \n",
       "9022       Organic Strawberries      21137          37039            28639   \n",
       "9656       Organic Baby Spinach      21903          33971            26233   \n",
       "30167      Organic Hass Avocado      47209          29773            23629   \n",
       "30627           Organic Avocado      47766          24689            18743   \n",
       "30514               Large Lemon      47626          21495            15044   \n",
       "5505               Strawberries      16797          20018            13945   \n",
       "13168                     Limes      26209          19690            13327   \n",
       "14499        Organic Whole Milk      27845          19600            16251   \n",
       "14595       Organic Raspberries      27966          19197            14748   \n",
       "10499      Organic Yellow Onion      22935          15898            11145   \n",
       "12158            Organic Garlic      24964          15292            10411   \n",
       "28385          Organic Zucchini      45007          14584            10076   \n",
       "23736       Organic Blueberries      39275          13879             8799   \n",
       "32180            Cucumber Kirby      49683          13675             9538   \n",
       "14780        Organic Fuji Apple      28204          12544             8989   \n",
       "32934             Organic Lemon       5876          12232             8412   \n",
       "34837  Apple Honeycrisp Organic       8277          11993             8836   \n",
       "24902    Organic Grape Tomatoes      40706          11781             7793   \n",
       "\n",
       "       proportion  \n",
       "12068       84.43  \n",
       "2557        83.40  \n",
       "9022        77.32  \n",
       "9656        77.22  \n",
       "30167       79.36  \n",
       "30627       75.92  \n",
       "30514       69.99  \n",
       "5505        69.66  \n",
       "13168       67.68  \n",
       "14499       82.91  \n",
       "14595       76.82  \n",
       "10499       70.10  \n",
       "12158       68.08  \n",
       "28385       69.09  \n",
       "23736       63.40  \n",
       "32180       69.75  \n",
       "14780       71.66  \n",
       "32934       68.77  \n",
       "34837       73.68  \n",
       "24902       66.15  "
      ]
     },
     "execution_count": 53,
     "metadata": {},
     "output_type": "execute_result"
    }
   ],
   "source": [
    "# Count of times each item has been reordered.\n",
    "reordered_items = order_products.loc[order_products['reordered'] == 1, ['product_id', 'reordered']]\n",
    "reordered_items = reordered_items.groupby('product_id')['reordered'].count().reset_index()\n",
    "\n",
    "# Count of times each item has been ordered.\n",
    "ordered_items = order_products.groupby('product_id').size().reset_index(name='product_cnt')\n",
    "\n",
    "# Calculate proportion of reordered products. Products that have not been reordered are not shown.\n",
    "proportion_reordered = ordered_items.merge(reordered_items, on='product_id')\n",
    "proportion_reordered.columns = (['product_id', 'times_ordered', 'times_reordered'])\n",
    "proportion_reordered = proportion_reordered.merge(products, on='product_id')\n",
    "proportion_reordered = proportion_reordered[['product_name', 'product_id', 'times_ordered', 'times_reordered']]\n",
    "proportion_reordered['proportion'] = (proportion_reordered['times_reordered']/proportion_reordered['times_ordered'] * 100).round(2)\n",
    "proportion_reordered.sort_values(by='times_ordered', ascending=False).head(20)"
   ]
  },
  {
   "cell_type": "markdown",
   "id": "e8422218",
   "metadata": {},
   "source": [
    "For the top 20 products (most ordered), the reorder proportion is relatively high, ranging between 60% and 85%. As seen before, most of them are from the produce department, which might have a short shelf life. This observation aligns with the assumption that users tend to buy more frequently and reorder products that are likely to spoil faster. It suggests that customers prioritize restocking perishable items, such as fruits and vegetables, contributing to the high reorder rates observed for these products."
   ]
  },
  {
   "cell_type": "markdown",
   "id": "94a0808f",
   "metadata": {},
   "source": [
    "## 3. Conclusion\n",
    "\n",
    "In summary, our analysis highlights several key insights regarding Instacart customer behavior:\n",
    "\n",
    "- Customers tend to place orders primarily during daytime hours, with peaks observed between 9:00 and 16:00, suggesting consistent shopping patterns throughout the day.\n",
    "- Most orders consist of approximately 8 to 10 items, with a notable decline in frequency beyond 15 items, indicating that many orders are placed for individuals or small households.\n",
    "- The high reorder proportions, ranging from 60% to 85%, for the top 20 products (predominantly organic produce) suggest that customers prioritize restocking perishable items.\n"
   ]
  }
 ],
 "metadata": {
  "kernelspec": {
   "display_name": "Python 3 (ipykernel)",
   "language": "python",
   "name": "python3"
  },
  "language_info": {
   "codemirror_mode": {
    "name": "ipython",
    "version": 3
   },
   "file_extension": ".py",
   "mimetype": "text/x-python",
   "name": "python",
   "nbconvert_exporter": "python",
   "pygments_lexer": "ipython3",
   "version": "3.10.11"
  }
 },
 "nbformat": 4,
 "nbformat_minor": 5
}
