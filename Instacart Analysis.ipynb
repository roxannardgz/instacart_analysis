{
 "cells": [
  {
   "cell_type": "markdown",
   "id": "31554a78",
   "metadata": {},
   "source": [
    "# Instacart Analysis"
   ]
  },
  {
   "cell_type": "markdown",
   "id": "e1c482ac",
   "metadata": {},
   "source": [
    "## Introduction\n",
    "\n",
    "Instacart is a Groceries Delivery App, where customers can place a grocery order and have it delivered to them. The purpose of this analysis is to provide general insight into the shopping habits of Instacart Customers. For the analysis, we will be using tables with data on orders, products, products ordered, aisles and departments. "
   ]
  },
  {
   "cell_type": "markdown",
   "id": "2700664b",
   "metadata": {},
   "source": [
    "## 1. Data Cleaning and Preprocessing\n",
    "\n",
    "We'll begin by loading the data and importing necessary libraries. Then we'll address different data aspects such as data types, missing values, and duplicates."
   ]
  },
  {
   "cell_type": "code",
   "execution_count": null,
   "id": "1ff14df0",
   "metadata": {},
   "outputs": [],
   "source": [
    "import pandas as pd\n",
    "import matplotlib.pyplot as plt\n",
    "%matplotlib inline\n",
    "\n",
    "\n",
    "orders = pd.read_csv('instacart_orders.csv', sep=';')\n",
    "\n",
    "products = pd.read_csv('products.csv', sep=';')\n",
    "\n",
    "aisles =  pd.read_csv('aisles.csv', sep=';')\n",
    "\n",
    "departments =  pd.read_csv('departments.csv', sep=';')\n",
    "\n",
    "order_products =  pd.read_csv('order_products.csv', sep=';')"
   ]
  },
  {
   "cell_type": "markdown",
   "id": "715a80f0",
   "metadata": {},
   "source": [
    "### 1.1 Orders Table"
   ]
  },
  {
   "cell_type": "code",
   "execution_count": null,
   "id": "90c91fcc",
   "metadata": {},
   "outputs": [],
   "source": [
    "orders.info()"
   ]
  },
  {
   "cell_type": "code",
   "execution_count": null,
   "id": "39778e00",
   "metadata": {
    "scrolled": true
   },
   "outputs": [],
   "source": [
    "orders.head()"
   ]
  },
  {
   "cell_type": "markdown",
   "id": "c969ee60",
   "metadata": {},
   "source": [
    "Although `order_id` and `user_id` are represented by numbers, we'll change the data types to strings, so that they explicitly show that they are categories rather than numerical values."
   ]
  },
  {
   "cell_type": "code",
   "execution_count": null,
   "id": "026a089c",
   "metadata": {},
   "outputs": [],
   "source": [
    "orders['order_id'] = orders['order_id'].astype(str)\n",
    "orders['user_id'] = orders['user_id'].astype(str)"
   ]
  },
  {
   "cell_type": "markdown",
   "id": "b4c74337",
   "metadata": {},
   "source": [
    "The `orders` table only contains null values in the `days_since_prior_order` column, which might refer to first orders. Wel'll verify that after checking for duplicates.\n",
    "\n",
    "Since each order ID should appear only once, let's check for duplicates based on that:"
   ]
  },
  {
   "cell_type": "code",
   "execution_count": null,
   "id": "81ee2bb7",
   "metadata": {
    "scrolled": false
   },
   "outputs": [],
   "source": [
    "# count how many times each order is in the table and filter those that appear more than once.\n",
    "by_order = orders.groupby('order_id')['order_id'].count()  \n",
    "repeated_ids = by_order[by_order > 1]\n",
    "print('There are ', len(repeated_ids), ' duplicated IDs.')\n",
    "\n",
    "orders[orders['order_id'].isin(repeated_ids.index)].sort_values(by='user_id').head(10)"
   ]
  },
  {
   "cell_type": "markdown",
   "id": "1018f309",
   "metadata": {},
   "source": [
    "Let's drop those duplicated entires."
   ]
  },
  {
   "cell_type": "code",
   "execution_count": null,
   "id": "19a33bbf",
   "metadata": {},
   "outputs": [],
   "source": [
    "orders.drop_duplicates(inplace=True)"
   ]
  },
  {
   "cell_type": "code",
   "execution_count": null,
   "id": "db37d53d",
   "metadata": {},
   "outputs": [],
   "source": [
    "by_order = orders.groupby('order_id')['order_id'].count()  \n",
    "repeated_ids = by_order[by_order > 1]\n",
    "\n",
    "print('There are ', len(repeated_ids), ' duplicated IDs.')"
   ]
  },
  {
   "cell_type": "markdown",
   "id": "f8939419",
   "metadata": {},
   "source": [
    "Now let's go back to the number of days since the previous order. For the null values to refer to the first order, every null value should correspond only to order number 1. Likewise, every user id should only have one null value."
   ]
  },
  {
   "cell_type": "code",
   "execution_count": null,
   "id": "fd939ccd",
   "metadata": {},
   "outputs": [],
   "source": [
    "# Check whether null values correspond to an order number different than 1. \n",
    "# If all null values correspond to order number 1, the returned dataframe should be empty.\n",
    "null_days = orders[orders['days_since_prior_order'].isna()]\n",
    "print(null_days[null_days['order_number'] != 1])"
   ]
  },
  {
   "cell_type": "code",
   "execution_count": null,
   "id": "ed9b1acd",
   "metadata": {
    "scrolled": true
   },
   "outputs": [],
   "source": [
    "# Check the number of null values and first orders.\n",
    "print('There are ', null_days.shape[0], \" null values in the 'days_since_prior_order' column.\")\n",
    "first_order = orders[orders['order_number']==1]\n",
    "print('There are ', first_order.shape[0], ' first orders.')"
   ]
  },
  {
   "cell_type": "code",
   "execution_count": null,
   "id": "34da4332",
   "metadata": {},
   "outputs": [],
   "source": [
    "# Check if each user_id has only one null value\n",
    "null_cnt = orders.groupby('user_id')['days_since_prior_order'].apply(lambda x: x.isnull().sum())\n",
    "null_cnt = null_cnt[null_cnt == 1]\n",
    "print('There are ', len(null_cnt), ' users with only one null value')"
   ]
  },
  {
   "cell_type": "markdown",
   "id": "d281e5fa",
   "metadata": {},
   "source": [
    "All the null values correspond to orders number one, and there are the same number of first orders as there are null values. Since the null values cannot be replaced with 0, we'll keep them as null and change the data type to integer."
   ]
  },
  {
   "cell_type": "code",
   "execution_count": null,
   "id": "6f623248",
   "metadata": {},
   "outputs": [],
   "source": [
    "orders['days_since_prior_order'] = orders['days_since_prior_order'].astype('Int64')\n",
    "orders.info()"
   ]
  },
  {
   "cell_type": "markdown",
   "id": "1028880d",
   "metadata": {},
   "source": [
    "### 1.2 Products Table"
   ]
  },
  {
   "cell_type": "code",
   "execution_count": null,
   "id": "39da96b8",
   "metadata": {},
   "outputs": [],
   "source": [
    "products.info()"
   ]
  },
  {
   "cell_type": "code",
   "execution_count": null,
   "id": "04e24b52",
   "metadata": {},
   "outputs": [],
   "source": [
    "products.head()"
   ]
  },
  {
   "cell_type": "markdown",
   "id": "f24b983d",
   "metadata": {},
   "source": [
    "As with the previous table, we'll change the data type of the columns that are categories to strings."
   ]
  },
  {
   "cell_type": "code",
   "execution_count": null,
   "id": "86c8546b",
   "metadata": {},
   "outputs": [],
   "source": [
    "products['product_id'] = products['product_id'].astype(str)\n",
    "products['aisle_id'] = products['aisle_id'].astype(str)\n",
    "products['department_id'] = products['department_id'].astype(str)"
   ]
  },
  {
   "cell_type": "markdown",
   "id": "01543054",
   "metadata": {},
   "source": [
    "There are missing values for the `product_name` column."
   ]
  },
  {
   "cell_type": "code",
   "execution_count": null,
   "id": "70047089",
   "metadata": {},
   "outputs": [],
   "source": [
    "noname_products = products[products['product_name'].isna()]\n",
    "noname_products.sample(10)"
   ]
  },
  {
   "cell_type": "code",
   "execution_count": null,
   "id": "cefca67c",
   "metadata": {
    "scrolled": true
   },
   "outputs": [],
   "source": [
    "# Check to how many aisles and departments correspond the products with missing names.\n",
    "print(noname_products['aisle_id'].nunique())\n",
    "print(noname_products['department_id'].nunique())\n",
    "print(noname_products['product_id'].nunique())"
   ]
  },
  {
   "cell_type": "markdown",
   "id": "4fd9097b",
   "metadata": {},
   "source": [
    "Every product that is missing its name correspond to the same aisle and department. For now, we will assume that these products are awaiting for proper name or classification and we'll change their values to `Missing`."
   ]
  },
  {
   "cell_type": "code",
   "execution_count": null,
   "id": "e539872c",
   "metadata": {},
   "outputs": [],
   "source": [
    "products['product_name'] = products['product_name'].fillna('Missing')"
   ]
  },
  {
   "cell_type": "code",
   "execution_count": null,
   "id": "a55fc6c3",
   "metadata": {},
   "outputs": [],
   "source": [
    "products.info()"
   ]
  },
  {
   "cell_type": "code",
   "execution_count": null,
   "id": "fbf112a8",
   "metadata": {},
   "outputs": [],
   "source": [
    "products.duplicated().sum()"
   ]
  },
  {
   "cell_type": "markdown",
   "id": "34ac0899",
   "metadata": {},
   "source": [
    "There are no duplicated values, so we'll proceede with the next tables."
   ]
  },
  {
   "cell_type": "markdown",
   "id": "4501e7d9",
   "metadata": {},
   "source": [
    "### 1.3 Aisles and Departments Tables"
   ]
  },
  {
   "cell_type": "code",
   "execution_count": null,
   "id": "6e303db2",
   "metadata": {},
   "outputs": [],
   "source": [
    "aisles.info()"
   ]
  },
  {
   "cell_type": "code",
   "execution_count": null,
   "id": "d47167a0",
   "metadata": {
    "scrolled": false
   },
   "outputs": [],
   "source": [
    "aisles.head()"
   ]
  },
  {
   "cell_type": "code",
   "execution_count": null,
   "id": "e35784e1",
   "metadata": {},
   "outputs": [],
   "source": [
    "departments.info()"
   ]
  },
  {
   "cell_type": "code",
   "execution_count": null,
   "id": "77bf6e25",
   "metadata": {
    "scrolled": true
   },
   "outputs": [],
   "source": [
    "departments.sample(10)"
   ]
  },
  {
   "cell_type": "markdown",
   "id": "629e47a1",
   "metadata": {},
   "source": [
    "As with the previous tables, we'll change the data types of the ids to strings."
   ]
  },
  {
   "cell_type": "code",
   "execution_count": null,
   "id": "2d560a6e",
   "metadata": {},
   "outputs": [],
   "source": [
    "aisles['aisle_id'] = aisles['aisle_id'].astype(str)\n",
    "departments['department_id'] = departments['department_id'].astype(str)"
   ]
  },
  {
   "cell_type": "markdown",
   "id": "0fea786c",
   "metadata": {},
   "source": [
    "Let's check the aisle and department that correspond to to the products that are missing their names."
   ]
  },
  {
   "cell_type": "code",
   "execution_count": null,
   "id": "74445fbb",
   "metadata": {
    "scrolled": true
   },
   "outputs": [],
   "source": [
    "aisles[aisles['aisle_id']=='100']"
   ]
  },
  {
   "cell_type": "code",
   "execution_count": null,
   "id": "a6b402df",
   "metadata": {
    "scrolled": true
   },
   "outputs": [],
   "source": [
    "departments[departments['department_id']=='21']"
   ]
  },
  {
   "cell_type": "markdown",
   "id": "3c8e3607",
   "metadata": {},
   "source": [
    "Both the aisle and the department are tagged as `missing`. That explains the missing product names."
   ]
  },
  {
   "cell_type": "markdown",
   "id": "1342d5e0",
   "metadata": {},
   "source": [
    "### 1.4 Ordered Products"
   ]
  },
  {
   "cell_type": "code",
   "execution_count": null,
   "id": "d2934b97",
   "metadata": {},
   "outputs": [],
   "source": [
    "order_products.info(show_counts=True)"
   ]
  },
  {
   "cell_type": "code",
   "execution_count": null,
   "id": "42e55ea5",
   "metadata": {},
   "outputs": [],
   "source": [
    "order_products.sample(10)"
   ]
  },
  {
   "cell_type": "code",
   "execution_count": null,
   "id": "adc12b8c",
   "metadata": {},
   "outputs": [],
   "source": [
    "order_products['order_id'] = order_products['order_id'].astype(str)\n",
    "order_products['product_id'] = order_products['product_id'].astype(str)"
   ]
  },
  {
   "cell_type": "markdown",
   "id": "8ff0509d",
   "metadata": {},
   "source": [
    "There are some missing values in `add_to_cart_order`. Let's take a look."
   ]
  },
  {
   "cell_type": "code",
   "execution_count": null,
   "id": "4f11e470",
   "metadata": {},
   "outputs": [],
   "source": [
    "# Number of missing values \n",
    "order_products['add_to_cart_order'].isna().sum()"
   ]
  },
  {
   "cell_type": "code",
   "execution_count": null,
   "id": "acf87563",
   "metadata": {
    "scrolled": true
   },
   "outputs": [],
   "source": [
    "na_order = order_products[order_products['add_to_cart_order'].isna()]\n",
    "na_order.sample(10)"
   ]
  },
  {
   "cell_type": "code",
   "execution_count": null,
   "id": "743be979",
   "metadata": {
    "scrolled": true
   },
   "outputs": [],
   "source": [
    "not_na = order_products[~order_products['add_to_cart_order'].isna()]\n",
    "sorted(not_na['add_to_cart_order'].unique())"
   ]
  },
  {
   "cell_type": "markdown",
   "id": "20a4c05b",
   "metadata": {},
   "source": [
    "The unique values for `add_to_cart_order` span consecutive values up to 64. Upon investigating some of the orders with missing values, it appears that the missing values in this column coincide with products beyond this order limit. This might suggest that these missing values happen due system restrictions or limitations in recording items beyond 64, rather than because of data entry errors. "
   ]
  },
  {
   "cell_type": "code",
   "execution_count": null,
   "id": "3f906f1b",
   "metadata": {
    "scrolled": false
   },
   "outputs": [],
   "source": [
    "order_products[order_products['order_id']=='1183255'].sort_values(by='add_to_cart_order').tail(50)"
   ]
  },
  {
   "cell_type": "markdown",
   "id": "620780ab",
   "metadata": {},
   "source": [
    "Filling these null values with the mean or median might not be suitable for this column, as it represents a sequential number that might not have meaningful statistical properties for replacement. We could either fill the null values with a placeholder (such as 999) or leave the null values. Since it does not affect the intended analysis, we'll leave the null values. "
   ]
  },
  {
   "cell_type": "markdown",
   "id": "2123069b",
   "metadata": {},
   "source": [
    "## 2. Analysis\n",
    "We'll begin the analysis by verifying that the values in the `'order_hour_of_day'` and `'order_dow'` from the `orders` table are sensible. Since there are not many possible values for each, we'll check whether the unique values fall within the acceptable ranges."
   ]
  },
  {
   "cell_type": "markdown",
   "id": "c4948291",
   "metadata": {},
   "source": [
    "### 2.1 Part 1"
   ]
  },
  {
   "cell_type": "code",
   "execution_count": null,
   "id": "a446c9cf",
   "metadata": {},
   "outputs": [],
   "source": [
    "print(sorted(orders['order_hour_of_day'].unique()), end=\" \")\n",
    "print()\n",
    "print(sorted(orders['order_dow'].unique()), end=\" \")"
   ]
  },
  {
   "cell_type": "markdown",
   "id": "79575a32",
   "metadata": {},
   "source": [
    "Both columns have values that fall within the ranges (from 0 o 23 for `order_hour_of_day` and from 0 to 6 for `order_dow`). \n",
    "\n",
    "Next, let's visualize how many orders are placed for each hour of the day. Since we are dealing with discrete data (hours of the day), we'll use a bar chart to represent one bar per distinct hour. "
   ]
  },
  {
   "cell_type": "code",
   "execution_count": null,
   "id": "d46cf5e6",
   "metadata": {},
   "outputs": [],
   "source": [
    "orders_per_hour = orders.groupby('order_hour_of_day').size().reset_index()\n",
    "orders_per_hour.columns = ['hour', 'orders_cnt']\n",
    "orders_per_hour['peak_orders'] = orders_per_hour['orders_cnt'] > 35000\n",
    "\n",
    "orders_per_hour.plot(kind='bar',\n",
    "                     title='Orders per Hour',\n",
    "                     x='hour',\n",
    "                     y='orders_cnt',\n",
    "                     xlabel='hour',\n",
    "                     ylabel='number of orders',\n",
    "                     width=0.8,\n",
    "                     color=orders_per_hour['peak_orders'].map({True : '#0E83A5', False : '#7C8080'}),\n",
    "                     legend=False,\n",
    "                     rot=0,\n",
    "                     figsize=(12,6)\n",
    "                    )\n",
    "plt.show()"
   ]
  },
  {
   "cell_type": "markdown",
   "id": "84fb27a8",
   "metadata": {},
   "source": [
    "The chart reveals that the majority of the orders are placed between 9:00 and 16:00. Let's see how many distinct user ids place at least one order in each hour."
   ]
  },
  {
   "cell_type": "code",
   "execution_count": null,
   "id": "125d5456",
   "metadata": {},
   "outputs": [],
   "source": [
    "users_per_hour = orders.groupby('order_hour_of_day')['user_id'].nunique()\n",
    "users_per_hour.plot(kind='bar',\n",
    "                    title='Users that ordered per hour',\n",
    "                    xlabel='hour',\n",
    "                    ylabel='number of users',\n",
    "                    width=0.8,\n",
    "                    color='#0E83A5',\n",
    "                    rot=0,\n",
    "                    figsize=(12,6)\n",
    "                   )\n",
    "plt.show()"
   ]
  },
  {
   "cell_type": "markdown",
   "id": "4a9e9316",
   "metadata": {},
   "source": [
    "The distribution of both the number of orders and the count of distinct users placing orders per hour appears similar. This suggests that users tend to place orders around the same times throughout the day."
   ]
  },
  {
   "cell_type": "code",
   "execution_count": null,
   "id": "411ebf5d",
   "metadata": {},
   "outputs": [],
   "source": [
    "orders_per_day = orders['order_dow'].value_counts().sort_index()\n",
    "orders_per_day.plot(kind='bar', color='#0E83A5', figsize=(8,6), rot=0)\n",
    "plt.title('Total Orders by Day of the Week')\n",
    "plt.xlabel('Day of the Week')\n",
    "\n",
    "for i, val in enumerate(orders_per_day):\n",
    "    plt.annotate(str(val), xy=(i, val), ha='center', va='bottom')\n",
    "\n",
    "plt.show()"
   ]
  },
  {
   "cell_type": "markdown",
   "id": "a134dd24",
   "metadata": {},
   "source": [
    "We do not have explicit information indicating which number corresponds to each day of the week, and it is not possible to determine based on the data available alone.  However, by examining the count of orders per day, we can make an assumption that 0 represents Sunday, as it is the day with the highest number of orders, and Sundays are commonly associated with grocery shopping. Additionally, in systems where days of the week are represented by numbers ranging from 0 to 6, conventionally, 0 corresponds to Sunday, 1 to Monday, and so on. Under that assumption, we can see that Sunday and Monday have a significantly higher number of orders than the rest of the week, while the number of orders remains relatively constant for those day. "
   ]
  },
  {
   "cell_type": "code",
   "execution_count": null,
   "id": "2151cad7",
   "metadata": {},
   "outputs": [],
   "source": [
    "days_to_order = orders.groupby('days_since_prior_order')['order_id'].count()\n",
    "\n",
    "days_to_order.plot(kind='bar',\n",
    "                   title='Days Between Orders',\n",
    "                   xlabel='num of days',\n",
    "                   ylabel='frequency',\n",
    "                   color='#0E83A5',\n",
    "                   width=0.7,\n",
    "                    rot=0,\n",
    "                    figsize=(12,6)\n",
    "                  )"
   ]
  },
  {
   "cell_type": "markdown",
   "id": "9a777072",
   "metadata": {},
   "source": [
    "The graph shows that most people  opt for either monthly intervals (30 days) or weekly intervals (7 days) between placing orders. Additionally,  a significant number of orders occur within a week (ranging from 0 to 6 days), suggesting that a portion of customers prefer more frequent restocking of groceries, possibly to ensure freshness of the products or to avoid spoiling items. Further analysis could explore whether customers who wait between 22-29 days between orders tend to purchase certain kinds of products, such as personal care items, pets, or household items, as opposed to food."
   ]
  },
  {
   "cell_type": "markdown",
   "id": "a2af1fc2",
   "metadata": {},
   "source": [
    "### 2.2 Part 2\n",
    "Let's see if there a difference in `'order_hour_of_day'` distributions on Wednesdays and Saturdays."
   ]
  },
  {
   "cell_type": "code",
   "execution_count": null,
   "id": "bc09624f",
   "metadata": {
    "scrolled": false
   },
   "outputs": [],
   "source": [
    "# Wednesday = 3, Saturday = 6\n",
    "wed_orders = orders[(orders['order_dow'] == 3)]\n",
    "sat_orders = orders[(orders['order_dow'] == 6)]\n",
    ",\n",
    "plt.hist(wed_orders['order_hour_of_day'], bins=24, alpha=0.5, label='Wednesday',color='#0E83A5')\n",
    "plt.hist(sat_orders['order_hour_of_day'], bins=24, alpha=0.5, label='Saturday', color='#D89F25')\n",
    "plt.title('Distribution of Orders by Hour of the Day for Wednesday and Saturday')\n",
    "plt.legend()\n",
    "\n",
    "plt.show()"
   ]
  },
  {
   "cell_type": "markdown",
   "id": "8c21a284",
   "metadata": {},
   "source": [
    "The distribution for both days are very similar, with the only exception that Saturday present a higher number of orders between 12:00 and 15:00. Since we want to compare the difference in the number of orders for each hour, it might be useful to visualize it differently."
   ]
  },
  {
   "cell_type": "code",
   "execution_count": null,
   "id": "c4d7653b",
   "metadata": {
    "scrolled": false
   },
   "outputs": [],
   "source": [
    "wed_orders = orders[(orders['order_dow'] == 3)]\n",
    "sat_orders = orders[(orders['order_dow'] == 6)]\n",
    "\n",
    "wed_orders_cnt = wed_orders['order_hour_of_day'].value_counts().sort_index()\n",
    "sat_orders_cnt = sat_orders['order_hour_of_day'].value_counts().sort_index()\n",
    "\n",
    "wed_sat_orders = pd.concat([wed_orders_cnt, sat_orders_cnt],\n",
    "                          axis=1\n",
    "                          )\n",
    "\n",
    "wed_sat_orders.columns = ['Wednesday', 'Saturday']\n",
    "wed_sat_orders.plot(kind='bar',\n",
    "                   title= 'Orders by Hour of the Day for Wednesday and Saturday',\n",
    "                    width=0.9,\n",
    "                    xlabel='hour',\n",
    "                    legend=True,\n",
    "                    color={'Wednesday' : '#0E83A5', 'Saturday' : '#D89F25' },\n",
    "                     rot=0,\n",
    "                     figsize=(11,6)\n",
    "                   )\n",
    "\n",
    "plt.show()"
   ]
  },
  {
   "cell_type": "markdown",
   "id": "a5ebb881",
   "metadata": {},
   "source": [
    "Now let's explore the number of orders that customers place."
   ]
  },
  {
   "cell_type": "code",
   "execution_count": null,
   "id": "0ffd58d0",
   "metadata": {
    "scrolled": false
   },
   "outputs": [],
   "source": [
    "# Number of orders per customer\n",
    "orders_per_customer = orders.groupby('user_id')['order_id'].count()\n",
    "print('The customer with more orders has made', max(orders_per_customer), 'orders.')\n",
    "\n",
    "plt.hist(orders_per_customer, bins = 16,color='#0E83A5')\n",
    "plt.title('Distribution of Number of Orders Placed')\n",
    "plt.show()"
   ]
  },
  {
   "cell_type": "markdown",
   "id": "e2391356",
   "metadata": {},
   "source": [
    "Very few customers had made more than 10 orders. Let's see the exact number of customers that placed between 1 and 10 orders."
   ]
  },
  {
   "cell_type": "code",
   "execution_count": null,
   "id": "45ce09e7",
   "metadata": {
    "scrolled": false
   },
   "outputs": [],
   "source": [
    "up_to_ten = orders_per_customer[orders_per_customer <= 10].sort_values().reset_index()\n",
    "up_to_ten.columns = (['user_id', 'num_orders'])\n",
    "up_to_ten = up_to_ten.groupby('num_orders')['user_id'].count()\n",
    "\n",
    "up_to_ten.plot(kind='bar',\n",
    "              title='Number of Users by Orders',\n",
    "               xlabel='number of orders',\n",
    "               ylabel='number of users',\n",
    "               color='#0E83A5',\n",
    "               width=0.8,\n",
    "               rot=0\n",
    "              )\n",
    "\n",
    "for i, val in enumerate(up_to_ten):\n",
    "    plt.annotate(str(val), xy=(i, val), ha='center', va='bottom')\n",
    "\n",
    "plt.show()"
   ]
  },
  {
   "cell_type": "markdown",
   "id": "ea32fd7a",
   "metadata": {},
   "source": [
    "Let's explore what are the most frequently ordered products."
   ]
  },
  {
   "cell_type": "code",
   "execution_count": null,
   "id": "f0571bb5",
   "metadata": {},
   "outputs": [],
   "source": [
    "# Top 20 ordered products\n",
    "products_freq = order_products.groupby('product_id').size().sort_values(ascending=False)\n",
    "top_20 = products_freq.head(20)\n",
    "top_20 = top_20.reset_index()\n",
    "top_20.columns = ['product_id', 'frequency']\n",
    "\n",
    "top_20_products = pd.merge(top_20, products, on='product_id')\n",
    "top_20_products = top_20_products[['product_id', 'product_name', 'frequency']]\n",
    "top_20_products"
   ]
  },
  {
   "cell_type": "markdown",
   "id": "df57ccaa",
   "metadata": {},
   "source": [
    "### 2.3 Part 3"
   ]
  },
  {
   "cell_type": "markdown",
   "id": "d760ffc2",
   "metadata": {},
   "source": [
    "Let's see the distribution of how many items people typically buy in one order. "
   ]
  },
  {
   "cell_type": "code",
   "execution_count": null,
   "id": "69978a38",
   "metadata": {
    "scrolled": false
   },
   "outputs": [],
   "source": [
    "products_per_order = order_products.groupby('order_id')['product_id'].count()\n",
    "products_per_order = products_per_order.reset_index()\n",
    "products_per_order.columns=['order_id', 'products_cnt']\n",
    "\n",
    "products_per_order = products_per_order.sort_values(by='products_cnt')\n",
    "products_per_order.sample(10)"
   ]
  },
  {
   "cell_type": "code",
   "execution_count": null,
   "id": "08961188",
   "metadata": {
    "scrolled": false
   },
   "outputs": [],
   "source": [
    "plt.hist(products_per_order['products_cnt'], bins = 40, color='#0E83A5')\n",
    "plt.show()"
   ]
  },
  {
   "cell_type": "markdown",
   "id": "3b47e973",
   "metadata": {},
   "source": [
    "It appears that there are some outliers on the right end of the distribution. Given that the histogram shows a right-skewed distribution, we'll proceed by removing the outliers only on the upper end."
   ]
  },
  {
   "cell_type": "code",
   "execution_count": null,
   "id": "eaec37e1",
   "metadata": {
    "scrolled": true
   },
   "outputs": [],
   "source": [
    "# Calculate the interquartile range (IQR)\n",
    "# We're using 10th and 90th percentile instead of 25th and 75th, \n",
    "# to adjust the sensitivity of the detection of ouliers. \n",
    "# Using 25th and 75th percentile excludes values that do not seem to be outliers.\n",
    "Q1 = products_per_order['products_cnt'].quantile(0.10)\n",
    "Q3 = products_per_order['products_cnt'].quantile(0.90)\n",
    "IQR = Q3 - Q1\n",
    "\n",
    "# Define the upper bound for outliers \n",
    "upper_bound = Q3 + 1.5 * IQR\n",
    "\n",
    "products_per_order_filtered = products_per_order[products_per_order['products_cnt'] < upper_bound]\n",
    "products_per_order_filtered.head()"
   ]
  },
  {
   "cell_type": "code",
   "execution_count": null,
   "id": "c2ff7f18",
   "metadata": {},
   "outputs": [],
   "source": [
    "print('The mean of the number of products bought per order is', products_per_order_filtered['products_cnt'].mean())\n",
    "print('The median of the number of products bought per order is', products_per_order_filtered['products_cnt'].median())"
   ]
  },
  {
   "cell_type": "code",
   "execution_count": null,
   "id": "5acc5972",
   "metadata": {
    "scrolled": false
   },
   "outputs": [],
   "source": [
    "plt.hist(products_per_order_filtered['products_cnt'], bins = 10, color='#0E83A5');"
   ]
  },
  {
   "cell_type": "markdown",
   "id": "c4f35f29",
   "metadata": {},
   "source": [
    "The average number of products is approximately 10, with a median of 8 products. In the histogram, the highest concentration of orders is observed for quantities up to around 15 items. Beyond this point, the frequency sharply declines. This suggests that a significant proportion of orders are placed for individuals or small households, rather than for larger families that might require larger quantities of products per order. Alternatively, this might indicate that customers might also use alternative methods to supplement their groceries needs (i.e. customers might not buy everything they need through the app).\n",
    "\n",
    "This, aligned with the previous observation of frequency of orders, might indicate that customers that tend to place a following order after one week or one month may have specific preference when it comes to the products offered in via the app. Let's continue exploring what are the items that are reordered most frequently."
   ]
  },
  {
   "cell_type": "code",
   "execution_count": null,
   "id": "b5aeeadd",
   "metadata": {},
   "outputs": [],
   "source": [
    "reordered_products = order_products[order_products['reordered'] == 1]\n",
    "reordered_products.sample(5)"
   ]
  },
  {
   "cell_type": "code",
   "execution_count": null,
   "id": "deecb10a",
   "metadata": {
    "scrolled": false
   },
   "outputs": [],
   "source": [
    "top_20_reordered = reordered_products.groupby('product_id')['reordered'].sum().sort_values(ascending=False)\n",
    "top_20_reordered = top_20_reordered.reset_index().head(20)\n",
    "top_20_reordered.columns= ['product_id', 'times_reordered']\n",
    "\n",
    "top_20_products_reordered = pd.merge(top_20_reordered, products, on='product_id')\n",
    "top_20_products_reordered = top_20_products_reordered[['product_id', 'product_name', 'times_reordered', 'department_id']]"
   ]
  },
  {
   "cell_type": "code",
   "execution_count": null,
   "id": "c62aa09c",
   "metadata": {
    "scrolled": false
   },
   "outputs": [],
   "source": [
    "top_20_dep = top_20_products_reordered.merge(departments,\n",
    "                                            on='department_id')\n",
    "top_20_dep.drop('department_id', axis=1, inplace=True)\n",
    "top_20_dep"
   ]
  },
  {
   "attachments": {},
   "cell_type": "markdown",
   "id": "1fcf26f8",
   "metadata": {},
   "source": [
    "Most of the products reordered are from the produce department, most of which are organic products. Now let's explore, for each product, what proportion of its orders are reorders."
   ]
  },
  {
   "cell_type": "code",
   "execution_count": null,
   "id": "7de93516",
   "metadata": {
    "scrolled": false
   },
   "outputs": [],
   "source": [
    "# Count of times each item has been reordered.\n",
    "reordered_items = order_products.loc[order_products['reordered'] == 1, ['product_id', 'reordered']]\n",
    "reordered_items = reordered_items.groupby('product_id')['reordered'].count().reset_index()\n",
    "\n",
    "# Count of times each item has been ordered.\n",
    "ordered_items = order_products.groupby('product_id').size().reset_index(name='product_cnt')\n",
    "\n",
    "# Calculate proportion of reordered products. Products that have not been reordered are not shown.\n",
    "proportion_reordered = ordered_items.merge(reordered_items, on='product_id')\n",
    "proportion_reordered.columns = (['product_id', 'times_ordered', 'times_reordered'])\n",
    "proportion_reordered = proportion_reordered.merge(products, on='product_id')\n",
    "proportion_reordered = proportion_reordered[['product_name', 'product_id', 'times_ordered', 'times_reordered']]\n",
    "proportion_reordered['proportion'] = (proportion_reordered['times_reordered']/proportion_reordered['times_ordered'] * 100).round(2)\n",
    "proportion_reordered.sort_values(by='times_ordered', ascending=False).head(20)"
   ]
  },
  {
   "cell_type": "markdown",
   "id": "e8422218",
   "metadata": {},
   "source": [
    "For the top 20 products (most ordered), the reorder proportion is relatively high, ranging between 60% and 85%. As seen before, most of them are from the produce department, which might have a short shelf life. This observation aligns with the assumption that users tend to buy more frequently and reorder products that are likely to spoil faster. It suggests that customers prioritize restocking perishable items, such as fruits and vegetables, contributing to the high reorder rates observed for these products."
   ]
  },
  {
   "cell_type": "markdown",
   "id": "94a0808f",
   "metadata": {},
   "source": [
    "## 3. Conclusion\n",
    "\n",
    "In summary, our analysis highlights several key insights regarding Instacart customer behavior:\n",
    "\n",
    "- Customers tend to place orders primarily during daytime hours, with peaks observed between 9:00 and 16:00, suggesting consistent shopping patterns throughout the day.\n",
    "- Most orders consist of approximately 8 to 10 items, with a notable decline in frequency beyond 15 items, indicating that many orders are placed for individuals or small households.\n",
    "- The high reorder proportions, ranging from 60% to 85%, for the top 20 products (predominantly organic produce) suggest that customers prioritize restocking perishable items.\n"
   ]
  }
 ],
 "metadata": {
  "kernelspec": {
   "display_name": "Python 3 (ipykernel)",
   "language": "python",
   "name": "python3"
  },
  "language_info": {
   "codemirror_mode": {
    "name": "ipython",
    "version": 3
   },
   "file_extension": ".py",
   "mimetype": "text/x-python",
   "name": "python",
   "nbconvert_exporter": "python",
   "pygments_lexer": "ipython3",
   "version": "3.10.11"
  }
 },
 "nbformat": 4,
 "nbformat_minor": 5
}
